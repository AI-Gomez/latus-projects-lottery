{
 "cells": [
  {
   "cell_type": "markdown",
   "metadata": {},
   "source": [
    "![](https://www.megamillions.com/GLC-Megamillions/media/images/logos/logo_MM_233x110.png)"
   ]
  },
  {
   "cell_type": "markdown",
   "metadata": {},
   "source": [
    "# Mega Millions\n",
    "### Drawings are held every Tuesday and Friday evening at 10:12 p.m. CT.\n",
    "\n",
    "**Mega Millions Odds**"
   ]
  },
  {
   "cell_type": "markdown",
   "metadata": {},
   "source": [
    "![](https://www.txlottery.org/export/sites/lottery/Images/MegaMillions_Megaplier_Prizechart_enlarged.png)"
   ]
  },
  {
   "cell_type": "code",
   "execution_count": 1,
   "metadata": {},
   "outputs": [],
   "source": [
    "import numpy as np\n",
    "import pandas as pd\n",
    "import matplotlib.pyplot as plt\n",
    "from scipy import stats\n",
    "from math import sqrt\n",
    "import seaborn as sns\n",
    "from pydataset import data\n",
    "import random\n",
    "from collections import Counter\n",
    "plt.rcParams['figure.figsize']=(13,7)\n",
    "\n",
    "csv_url = 'https://txlottery.org/export/sites/lottery/Games/Mega_Millions/Winning_Numbers/megamillions.csv'\n",
    "df = pd.read_csv(csv_url)"
   ]
  },
  {
   "cell_type": "code",
   "execution_count": 2,
   "metadata": {},
   "outputs": [
    {
     "data": {
      "text/html": [
       "<div>\n",
       "<style scoped>\n",
       "    .dataframe tbody tr th:only-of-type {\n",
       "        vertical-align: middle;\n",
       "    }\n",
       "\n",
       "    .dataframe tbody tr th {\n",
       "        vertical-align: top;\n",
       "    }\n",
       "\n",
       "    .dataframe thead th {\n",
       "        text-align: right;\n",
       "    }\n",
       "</style>\n",
       "<table border=\"1\" class=\"dataframe\">\n",
       "  <thead>\n",
       "    <tr style=\"text-align: right;\">\n",
       "      <th></th>\n",
       "      <th>Mega Millions</th>\n",
       "      <th>12</th>\n",
       "      <th>5</th>\n",
       "      <th>2003</th>\n",
       "      <th>12.1</th>\n",
       "      <th>44</th>\n",
       "      <th>15</th>\n",
       "      <th>18</th>\n",
       "      <th>1</th>\n",
       "      <th>42</th>\n",
       "      <th>4</th>\n",
       "    </tr>\n",
       "  </thead>\n",
       "  <tbody>\n",
       "    <tr>\n",
       "      <th>0</th>\n",
       "      <td>Mega Millions</td>\n",
       "      <td>12</td>\n",
       "      <td>9</td>\n",
       "      <td>2003</td>\n",
       "      <td>14</td>\n",
       "      <td>15</td>\n",
       "      <td>48</td>\n",
       "      <td>4</td>\n",
       "      <td>24</td>\n",
       "      <td>41</td>\n",
       "      <td>4</td>\n",
       "    </tr>\n",
       "    <tr>\n",
       "      <th>1</th>\n",
       "      <td>Mega Millions</td>\n",
       "      <td>12</td>\n",
       "      <td>12</td>\n",
       "      <td>2003</td>\n",
       "      <td>16</td>\n",
       "      <td>32</td>\n",
       "      <td>46</td>\n",
       "      <td>9</td>\n",
       "      <td>45</td>\n",
       "      <td>26</td>\n",
       "      <td>4</td>\n",
       "    </tr>\n",
       "    <tr>\n",
       "      <th>2</th>\n",
       "      <td>Mega Millions</td>\n",
       "      <td>12</td>\n",
       "      <td>16</td>\n",
       "      <td>2003</td>\n",
       "      <td>47</td>\n",
       "      <td>16</td>\n",
       "      <td>31</td>\n",
       "      <td>24</td>\n",
       "      <td>46</td>\n",
       "      <td>47</td>\n",
       "      <td>3</td>\n",
       "    </tr>\n",
       "    <tr>\n",
       "      <th>3</th>\n",
       "      <td>Mega Millions</td>\n",
       "      <td>12</td>\n",
       "      <td>19</td>\n",
       "      <td>2003</td>\n",
       "      <td>5</td>\n",
       "      <td>10</td>\n",
       "      <td>39</td>\n",
       "      <td>17</td>\n",
       "      <td>35</td>\n",
       "      <td>38</td>\n",
       "      <td>3</td>\n",
       "    </tr>\n",
       "    <tr>\n",
       "      <th>4</th>\n",
       "      <td>Mega Millions</td>\n",
       "      <td>12</td>\n",
       "      <td>23</td>\n",
       "      <td>2003</td>\n",
       "      <td>2</td>\n",
       "      <td>49</td>\n",
       "      <td>13</td>\n",
       "      <td>21</td>\n",
       "      <td>22</td>\n",
       "      <td>52</td>\n",
       "      <td>4</td>\n",
       "    </tr>\n",
       "    <tr>\n",
       "      <th>...</th>\n",
       "      <td>...</td>\n",
       "      <td>...</td>\n",
       "      <td>...</td>\n",
       "      <td>...</td>\n",
       "      <td>...</td>\n",
       "      <td>...</td>\n",
       "      <td>...</td>\n",
       "      <td>...</td>\n",
       "      <td>...</td>\n",
       "      <td>...</td>\n",
       "      <td>...</td>\n",
       "    </tr>\n",
       "    <tr>\n",
       "      <th>1782</th>\n",
       "      <td>Mega Millions</td>\n",
       "      <td>1</td>\n",
       "      <td>5</td>\n",
       "      <td>2021</td>\n",
       "      <td>43</td>\n",
       "      <td>20</td>\n",
       "      <td>51</td>\n",
       "      <td>57</td>\n",
       "      <td>55</td>\n",
       "      <td>4</td>\n",
       "      <td>2</td>\n",
       "    </tr>\n",
       "    <tr>\n",
       "      <th>1783</th>\n",
       "      <td>Mega Millions</td>\n",
       "      <td>1</td>\n",
       "      <td>8</td>\n",
       "      <td>2021</td>\n",
       "      <td>18</td>\n",
       "      <td>3</td>\n",
       "      <td>58</td>\n",
       "      <td>16</td>\n",
       "      <td>6</td>\n",
       "      <td>11</td>\n",
       "      <td>2</td>\n",
       "    </tr>\n",
       "    <tr>\n",
       "      <th>1784</th>\n",
       "      <td>Mega Millions</td>\n",
       "      <td>1</td>\n",
       "      <td>12</td>\n",
       "      <td>2021</td>\n",
       "      <td>28</td>\n",
       "      <td>12</td>\n",
       "      <td>14</td>\n",
       "      <td>26</td>\n",
       "      <td>33</td>\n",
       "      <td>9</td>\n",
       "      <td>2</td>\n",
       "    </tr>\n",
       "    <tr>\n",
       "      <th>1785</th>\n",
       "      <td>Mega Millions</td>\n",
       "      <td>1</td>\n",
       "      <td>15</td>\n",
       "      <td>2021</td>\n",
       "      <td>12</td>\n",
       "      <td>43</td>\n",
       "      <td>11</td>\n",
       "      <td>3</td>\n",
       "      <td>38</td>\n",
       "      <td>15</td>\n",
       "      <td>4</td>\n",
       "    </tr>\n",
       "    <tr>\n",
       "      <th>1786</th>\n",
       "      <td>Mega Millions</td>\n",
       "      <td>1</td>\n",
       "      <td>19</td>\n",
       "      <td>2021</td>\n",
       "      <td>10</td>\n",
       "      <td>19</td>\n",
       "      <td>26</td>\n",
       "      <td>50</td>\n",
       "      <td>28</td>\n",
       "      <td>16</td>\n",
       "      <td>2</td>\n",
       "    </tr>\n",
       "  </tbody>\n",
       "</table>\n",
       "<p>1787 rows × 11 columns</p>\n",
       "</div>"
      ],
      "text/plain": [
       "      Mega Millions  12   5  2003  12.1  44  15  18   1  42  4\n",
       "0     Mega Millions  12   9  2003    14  15  48   4  24  41  4\n",
       "1     Mega Millions  12  12  2003    16  32  46   9  45  26  4\n",
       "2     Mega Millions  12  16  2003    47  16  31  24  46  47  3\n",
       "3     Mega Millions  12  19  2003     5  10  39  17  35  38  3\n",
       "4     Mega Millions  12  23  2003     2  49  13  21  22  52  4\n",
       "...             ...  ..  ..   ...   ...  ..  ..  ..  ..  .. ..\n",
       "1782  Mega Millions   1   5  2021    43  20  51  57  55   4  2\n",
       "1783  Mega Millions   1   8  2021    18   3  58  16   6  11  2\n",
       "1784  Mega Millions   1  12  2021    28  12  14  26  33   9  2\n",
       "1785  Mega Millions   1  15  2021    12  43  11   3  38  15  4\n",
       "1786  Mega Millions   1  19  2021    10  19  26  50  28  16  2\n",
       "\n",
       "[1787 rows x 11 columns]"
      ]
     },
     "execution_count": 2,
     "metadata": {},
     "output_type": "execute_result"
    }
   ],
   "source": [
    "df"
   ]
  },
  {
   "cell_type": "code",
   "execution_count": 3,
   "metadata": {
    "scrolled": true
   },
   "outputs": [
    {
     "data": {
      "text/html": [
       "<div>\n",
       "<style scoped>\n",
       "    .dataframe tbody tr th:only-of-type {\n",
       "        vertical-align: middle;\n",
       "    }\n",
       "\n",
       "    .dataframe tbody tr th {\n",
       "        vertical-align: top;\n",
       "    }\n",
       "\n",
       "    .dataframe thead th {\n",
       "        text-align: right;\n",
       "    }\n",
       "</style>\n",
       "<table border=\"1\" class=\"dataframe\">\n",
       "  <thead>\n",
       "    <tr style=\"text-align: right;\">\n",
       "      <th></th>\n",
       "      <th>N0</th>\n",
       "      <th>N1</th>\n",
       "      <th>N2</th>\n",
       "      <th>N3</th>\n",
       "      <th>N4</th>\n",
       "      <th>BB</th>\n",
       "      <th>MP</th>\n",
       "    </tr>\n",
       "  </thead>\n",
       "  <tbody>\n",
       "    <tr>\n",
       "      <th>1451</th>\n",
       "      <td>31</td>\n",
       "      <td>53</td>\n",
       "      <td>6</td>\n",
       "      <td>28</td>\n",
       "      <td>52</td>\n",
       "      <td>12</td>\n",
       "      <td>4</td>\n",
       "    </tr>\n",
       "    <tr>\n",
       "      <th>1452</th>\n",
       "      <td>69</td>\n",
       "      <td>10</td>\n",
       "      <td>61</td>\n",
       "      <td>42</td>\n",
       "      <td>22</td>\n",
       "      <td>3</td>\n",
       "      <td>2</td>\n",
       "    </tr>\n",
       "    <tr>\n",
       "      <th>1453</th>\n",
       "      <td>1</td>\n",
       "      <td>68</td>\n",
       "      <td>69</td>\n",
       "      <td>60</td>\n",
       "      <td>54</td>\n",
       "      <td>11</td>\n",
       "      <td>4</td>\n",
       "    </tr>\n",
       "    <tr>\n",
       "      <th>1454</th>\n",
       "      <td>6</td>\n",
       "      <td>38</td>\n",
       "      <td>42</td>\n",
       "      <td>23</td>\n",
       "      <td>58</td>\n",
       "      <td>24</td>\n",
       "      <td>2</td>\n",
       "    </tr>\n",
       "    <tr>\n",
       "      <th>1455</th>\n",
       "      <td>14</td>\n",
       "      <td>1</td>\n",
       "      <td>21</td>\n",
       "      <td>22</td>\n",
       "      <td>28</td>\n",
       "      <td>19</td>\n",
       "      <td>3</td>\n",
       "    </tr>\n",
       "  </tbody>\n",
       "</table>\n",
       "</div>"
      ],
      "text/plain": [
       "      N0  N1  N2  N3  N4  BB MP\n",
       "1451  31  53   6  28  52  12  4\n",
       "1452  69  10  61  42  22   3  2\n",
       "1453   1  68  69  60  54  11  4\n",
       "1454   6  38  42  23  58  24  2\n",
       "1455  14   1  21  22  28  19  3"
      ]
     },
     "execution_count": 3,
     "metadata": {},
     "output_type": "execute_result"
    }
   ],
   "source": [
    "data=[]\n",
    "data.insert(0,{'Mega Millions':'Mega Millions','12':'12','5':'5','2003':'2003','12.1':'12.1','44':'44','15':'15','18':'18','1':'1','42':'42','4':'4'})\n",
    "df = pd.concat([pd.DataFrame(data),df],ignore_index=True)\n",
    "df.columns = ['game','month','day','year','N0','N1','N2','N3','N4','BB','MP']\n",
    "\n",
    "# converting M,D,Y to datetime to adjust for game changes\n",
    "df['date'] = pd.to_datetime(df[['month','day','year']])\n",
    "\n",
    "# getting rid of all draws before 10-28-2017 due to game change\n",
    "df = df[(df['date'] >= '2017-10-28')]\n",
    "\n",
    "# dropping unnecessary columns 'just the meat and potatoes'\n",
    "lotto = df.drop(['game','month','day','year','date'],axis=1)\n",
    "lotto.head()"
   ]
  },
  {
   "cell_type": "markdown",
   "metadata": {},
   "source": [
    "# Number Frequency"
   ]
  },
  {
   "cell_type": "code",
   "execution_count": 35,
   "metadata": {
    "scrolled": false
   },
   "outputs": [
    {
     "data": {
      "image/png": "[encoded data removed]",
      "text/plain": [
       "<Figure size 936x504 with 1 Axes>"
      ]
     },
     "metadata": {
      "needs_background": "light"
     },
     "output_type": "display_data"
    },
    {
     "data": {
      "image/png": "[encoded data removed]",
      "text/plain": [
       "<Figure size 936x504 with 1 Axes>"
      ]
     },
     "metadata": {
      "needs_background": "light"
     },
     "output_type": "display_data"
    },
    {
     "data": {
      "image/png": "[encoded data removed]",
      "text/plain": [
       "<Figure size 936x504 with 1 Axes>"
      ]
     },
     "metadata": {
      "needs_background": "light"
     },
     "output_type": "display_data"
    },
    {
     "data": {
      "image/png": "[encoded data removed]",
      "text/plain": [
       "<Figure size 936x504 with 1 Axes>"
      ]
     },
     "metadata": {
      "needs_background": "light"
     },
     "output_type": "display_data"
    },
    {
     "data": {
      "image/png": "[encoded data removed]",
      "text/plain": [
       "<Figure size 936x504 with 1 Axes>"
      ]
     },
     "metadata": {
      "needs_background": "light"
     },
     "output_type": "display_data"
    },
    {
     "data": {
      "image/png": "[encoded data removed]",
      "text/plain": [
       "<Figure size 936x504 with 1 Axes>"
      ]
     },
     "metadata": {
      "needs_background": "light"
     },
     "output_type": "display_data"
    }
   ],
   "source": [
    "#firsttop5 = lotto.N0.value_counts()\n",
    "firsttop5 = lotto.N0.value_counts().rename_axis('First_Num').reset_index(name='Frequency').head(10)\n",
    "sns.barplot(data=firsttop5, x='First_Num', y= 'Frequency', palette = 'mako')\n",
    "plt.title('1st Drawn Number', fontsize=13)\n",
    "plt.show()\n",
    "\n",
    "secondtop5 = lotto.N1.value_counts().rename_axis('second_Num').reset_index(name='Frequency').head(10)\n",
    "sns.barplot(data=secondtop5, x='second_Num', y= 'Frequency', palette = 'mako')\n",
    "plt.title('2nd Drawn Number', fontsize=13)\n",
    "plt.show()\n",
    "\n",
    "thirdtop5 = lotto.N2.value_counts().rename_axis('third_Num').reset_index(name='Frequency').head(10)\n",
    "sns.barplot(data=thirdtop5, x='third_Num', y= 'Frequency', palette = 'mako')\n",
    "plt.title('3rd Drawn Number', fontsize=13)\n",
    "plt.show()\n",
    "\n",
    "fourthtop5 = lotto.N3.value_counts().rename_axis('Fourth_Num').reset_index(name='Frequency').head(10)\n",
    "sns.barplot(data=fourthtop5, x='Fourth_Num', y= 'Frequency', palette = 'mako')\n",
    "plt.title('4th Drawn Number', fontsize=13)\n",
    "plt.show()\n",
    "\n",
    "fifthtop5 = lotto.N4.value_counts().rename_axis('Fifth_Num').reset_index(name='Frequency').head(10)\n",
    "sns.barplot(data=fifthtop5, x='Fifth_Num', y= 'Frequency', palette = 'mako')\n",
    "plt.title('5th Drawn Number', fontsize=13)\n",
    "plt.show()\n",
    "\n",
    "bonustop5 = lotto.BB.value_counts().rename_axis('bonus_Num').reset_index(name='Frequency').head(10)\n",
    "sns.barplot(data=bonustop5, x='bonus_Num', y= 'Frequency', palette = 'mako')\n",
    "plt.title('Bonus Ball', fontsize=13)\n",
    "plt.show()\n"
   ]
  },
  {
   "cell_type": "markdown",
   "metadata": {},
   "source": [
    "# Number Generator"
   ]
  },
  {
   "cell_type": "code",
   "execution_count": 31,
   "metadata": {
    "scrolled": true
   },
   "outputs": [
    {
     "name": "stdout",
     "output_type": "stream",
     "text": [
      "first column count is 337\n",
      "        33\n",
      "second column count is 337\n",
      "fixed second column count is 334\n",
      "        66\n",
      "third column count is 337\n",
      "fixed third column count is 326\n",
      "        34\n",
      "fourth column count is 337\n",
      "fixed fourth column count is 321\n",
      "        1\n",
      "fifth column count is 337\n",
      "fixed fifth column count is 316\n",
      "        31\n",
      "bonus ball count is 337\n",
      "        22\n",
      "\n",
      "33 - 66 - 34 - 1 - 31 - 22\n"
     ]
    }
   ],
   "source": [
    "########################################################\n",
    "########################################################\n",
    "########################################################\n",
    "\n",
    "mm = lotto\n",
    "################# First number\n",
    "first_column = mm['N0'].tolist()\n",
    "print('first column count is', len(first_column))\n",
    "\n",
    "first_num = random.choice(first_column)\n",
    "print('       ',first_num)\n",
    "\n",
    "################# Second number\n",
    "\n",
    "second_column = mm['N1'].tolist()\n",
    "print('second column count is', len(second_column))\n",
    "\n",
    "fixed_second = list(filter(lambda x: x != first_num, second_column))\n",
    "print('fixed second column count is', len(fixed_second))\n",
    "\n",
    "second_num = random.choice(fixed_second)\n",
    "print('       ',second_num)\n",
    "\n",
    "################# Third number\n",
    "\n",
    "third_column = mm['N2'].tolist()\n",
    "print('third column count is', len(third_column))\n",
    "\n",
    "third = list(filter(lambda x: x != first_num, third_column))\n",
    "fixed_third = list(filter(lambda x: x != second_num, third))\n",
    "print('fixed third column count is', len(fixed_third))\n",
    "\n",
    "third_num = random.choice(fixed_third)\n",
    "print('       ',third_num)\n",
    "\n",
    "################# Fourth number\n",
    "\n",
    "fourth_column = mm['N3'].tolist()\n",
    "print('fourth column count is', len(fourth_column))\n",
    "\n",
    "four = list(filter(lambda x: x != first_num, fourth_column))\n",
    "fourth = list(filter(lambda x: x != second_num, four))\n",
    "fixed_fourth = list(filter(lambda x: x != third_num, fourth))\n",
    "print('fixed fourth column count is', len(fixed_fourth))\n",
    "\n",
    "fourth_num = random.choice(fixed_fourth)\n",
    "print('       ',fourth_num)\n",
    "\n",
    "################# Fifth number\n",
    "\n",
    "fifth_column = mm['N4'].tolist()\n",
    "print('fifth column count is', len(fifth_column))\n",
    "\n",
    "five = list(filter(lambda x: x != first_num, fifth_column))\n",
    "fives = list(filter(lambda x: x != second_num, five))\n",
    "fifth = list(filter(lambda x: x != third_num, fives))\n",
    "fixed_fifth = list(filter(lambda x: x != fourth_num, fifth))\n",
    "print('fixed fifth column count is', len(fixed_fifth))\n",
    "\n",
    "fifth_num = random.choice(fixed_fifth)\n",
    "print('       ',fifth_num)\n",
    "\n",
    "################ Bonus Ball\n",
    "\n",
    "bonus_ball = mm['BB'].tolist()\n",
    "print('bonus ball count is', len(bonus_ball))\n",
    "\n",
    "bonus = random.choice(bonus_ball)\n",
    "print('       ',bonus)\n",
    "\n",
    "print('')\n",
    "print(first_num,'-', second_num,'-', third_num,'-', fourth_num,'-', fifth_num,'-', bonus)"
   ]
  },
  {
   "cell_type": "code",
   "execution_count": 34,
   "metadata": {},
   "outputs": [
    {
     "data": {
      "text/plain": [
       "True"
      ]
     },
     "execution_count": 34,
     "metadata": {},
     "output_type": "execute_result"
    }
   ],
   "source": [
    "62 in fixed_fourth"
   ]
  },
  {
   "cell_type": "code",
   "execution_count": null,
   "metadata": {},
   "outputs": [],
   "source": []
  },
  {
   "cell_type": "code",
   "execution_count": 7,
   "metadata": {},
   "outputs": [
    {
     "name": "stdout",
     "output_type": "stream",
     "text": [
      "first column count is 335\n",
      "        46\n"
     ]
    }
   ],
   "source": [
    "first_column = mm['N0'].tolist()\n",
    "print('first column count is', len(first_column))\n",
    "\n",
    "first_num = random.choice(first_column)\n",
    "print('       ',first_num)"
   ]
  },
  {
   "cell_type": "code",
   "execution_count": 8,
   "metadata": {},
   "outputs": [
    {
     "name": "stdout",
     "output_type": "stream",
     "text": [
      "second column count is 335\n",
      "fixed second column count is 329\n",
      "        56\n"
     ]
    }
   ],
   "source": [
    "second_column = mm['N1'].tolist()\n",
    "print('second column count is', len(second_column))\n",
    "\n",
    "fixed_second = list(filter(lambda x: x != first_num, second_column))\n",
    "print('fixed second column count is', len(fixed_second))\n",
    "\n",
    "second_num = random.choice(fixed_second)\n",
    "print('       ',second_num)"
   ]
  },
  {
   "cell_type": "code",
   "execution_count": 9,
   "metadata": {},
   "outputs": [
    {
     "name": "stdout",
     "output_type": "stream",
     "text": [
      "third column count is 335\n",
      "fixed third column count is 323\n",
      "        28\n"
     ]
    }
   ],
   "source": [
    "third_column = mm['N2'].tolist()\n",
    "print('third column count is', len(third_column))\n",
    "\n",
    "third = list(filter(lambda x: x != first_num, third_column))\n",
    "fixed_third = list(filter(lambda x: x != second_num, third))\n",
    "print('fixed third column count is', len(fixed_third))\n",
    "\n",
    "third_num = random.choice(fixed_third)\n",
    "print('       ',third_num)"
   ]
  },
  {
   "cell_type": "code",
   "execution_count": 10,
   "metadata": {},
   "outputs": [
    {
     "name": "stdout",
     "output_type": "stream",
     "text": [
      "fourth column count is 335\n",
      "fixed fourth column count is 323\n",
      "        10\n"
     ]
    }
   ],
   "source": [
    "fourth_column = mm['N3'].tolist()\n",
    "print('fourth column count is', len(fourth_column))\n",
    "\n",
    "four = list(filter(lambda x: x != first_num, fourth_column))\n",
    "fourth = list(filter(lambda x: x != second_num, four))\n",
    "fixed_fourth = list(filter(lambda x: x != third_num, fourth))\n",
    "print('fixed fourth column count is', len(fixed_fourth))\n",
    "\n",
    "fourth_num = random.choice(fixed_fourth)\n",
    "print('       ',fourth_num)"
   ]
  },
  {
   "cell_type": "code",
   "execution_count": 18,
   "metadata": {},
   "outputs": [
    {
     "data": {
      "text/html": [
       "<div>\n",
       "<style scoped>\n",
       "    .dataframe tbody tr th:only-of-type {\n",
       "        vertical-align: middle;\n",
       "    }\n",
       "\n",
       "    .dataframe tbody tr th {\n",
       "        vertical-align: top;\n",
       "    }\n",
       "\n",
       "    .dataframe thead th {\n",
       "        text-align: right;\n",
       "    }\n",
       "</style>\n",
       "<table border=\"1\" class=\"dataframe\">\n",
       "  <thead>\n",
       "    <tr style=\"text-align: right;\">\n",
       "      <th></th>\n",
       "      <th>N0</th>\n",
       "      <th>N1</th>\n",
       "      <th>N2</th>\n",
       "      <th>N3</th>\n",
       "      <th>N4</th>\n",
       "      <th>BB</th>\n",
       "      <th>MP</th>\n",
       "    </tr>\n",
       "  </thead>\n",
       "  <tbody>\n",
       "    <tr>\n",
       "      <th>1451</th>\n",
       "      <td>31</td>\n",
       "      <td>53</td>\n",
       "      <td>6</td>\n",
       "      <td>28</td>\n",
       "      <td>52</td>\n",
       "      <td>12</td>\n",
       "      <td>4</td>\n",
       "    </tr>\n",
       "    <tr>\n",
       "      <th>1465</th>\n",
       "      <td>37</td>\n",
       "      <td>39</td>\n",
       "      <td>58</td>\n",
       "      <td>28</td>\n",
       "      <td>42</td>\n",
       "      <td>2</td>\n",
       "      <td>3</td>\n",
       "    </tr>\n",
       "    <tr>\n",
       "      <th>1470</th>\n",
       "      <td>70</td>\n",
       "      <td>59</td>\n",
       "      <td>30</td>\n",
       "      <td>28</td>\n",
       "      <td>39</td>\n",
       "      <td>10</td>\n",
       "      <td>3</td>\n",
       "    </tr>\n",
       "    <tr>\n",
       "      <th>1702</th>\n",
       "      <td>50</td>\n",
       "      <td>25</td>\n",
       "      <td>60</td>\n",
       "      <td>28</td>\n",
       "      <td>3</td>\n",
       "      <td>1</td>\n",
       "      <td>4</td>\n",
       "    </tr>\n",
       "  </tbody>\n",
       "</table>\n",
       "</div>"
      ],
      "text/plain": [
       "      N0  N1  N2  N3  N4  BB MP\n",
       "1451  31  53   6  28  52  12  4\n",
       "1465  37  39  58  28  42   2  3\n",
       "1470  70  59  30  28  39  10  3\n",
       "1702  50  25  60  28   3   1  4"
      ]
     },
     "execution_count": 18,
     "metadata": {},
     "output_type": "execute_result"
    }
   ],
   "source": [
    "mm[mm['N3'] == 28]"
   ]
  },
  {
   "cell_type": "code",
   "execution_count": 29,
   "metadata": {},
   "outputs": [
    {
     "data": {
      "text/plain": [
       "False"
      ]
     },
     "execution_count": 29,
     "metadata": {},
     "output_type": "execute_result"
    }
   ],
   "source": [
    "28 in fixed_fourth"
   ]
  },
  {
   "cell_type": "code",
   "execution_count": null,
   "metadata": {},
   "outputs": [],
   "source": []
  }
 ],
 "metadata": {
  "kernelspec": {
   "display_name": "Python 3",
   "language": "python",
   "name": "python3"
  },
  "language_info": {
   "codemirror_mode": {
    "name": "ipython",
    "version": 3
   },
   "file_extension": ".py",
   "mimetype": "text/x-python",
   "name": "python",
   "nbconvert_exporter": "python",
   "pygments_lexer": "ipython3",
   "version": "3.7.6"
  }
 },
 "nbformat": 4,
 "nbformat_minor": 4
}
