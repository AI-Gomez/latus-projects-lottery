{
 "cells": [
  {
   "cell_type": "markdown",
   "metadata": {
    "scrolled": false
   },
   "source": [
    "![](https://www.txlottery.org/export/sites/lottery/Images/texas_two_step_logo.gif)"
   ]
  },
  {
   "cell_type": "markdown",
   "metadata": {},
   "source": [
    "![](https://www.txlottery.org/export/sites/lottery/Images/twostep_prizechart.gif)"
   ]
  },
  {
   "cell_type": "code",
   "execution_count": 3,
   "metadata": {},
   "outputs": [
    {
     "data": {
      "text/html": [
       "<div>\n",
       "<style scoped>\n",
       "    .dataframe tbody tr th:only-of-type {\n",
       "        vertical-align: middle;\n",
       "    }\n",
       "\n",
       "    .dataframe tbody tr th {\n",
       "        vertical-align: top;\n",
       "    }\n",
       "\n",
       "    .dataframe thead th {\n",
       "        text-align: right;\n",
       "    }\n",
       "</style>\n",
       "<table border=\"1\" class=\"dataframe\">\n",
       "  <thead>\n",
       "    <tr style=\"text-align: right;\">\n",
       "      <th></th>\n",
       "      <th>Texas Two Step</th>\n",
       "      <th>5</th>\n",
       "      <th>18</th>\n",
       "      <th>2001</th>\n",
       "      <th>9</th>\n",
       "      <th>10</th>\n",
       "      <th>22</th>\n",
       "      <th>13</th>\n",
       "      <th>1</th>\n",
       "    </tr>\n",
       "  </thead>\n",
       "  <tbody>\n",
       "    <tr>\n",
       "      <th>0</th>\n",
       "      <td>Texas Two Step</td>\n",
       "      <td>5</td>\n",
       "      <td>22</td>\n",
       "      <td>2001</td>\n",
       "      <td>30</td>\n",
       "      <td>34</td>\n",
       "      <td>23</td>\n",
       "      <td>4</td>\n",
       "      <td>13</td>\n",
       "    </tr>\n",
       "    <tr>\n",
       "      <th>1</th>\n",
       "      <td>Texas Two Step</td>\n",
       "      <td>5</td>\n",
       "      <td>25</td>\n",
       "      <td>2001</td>\n",
       "      <td>3</td>\n",
       "      <td>29</td>\n",
       "      <td>18</td>\n",
       "      <td>33</td>\n",
       "      <td>17</td>\n",
       "    </tr>\n",
       "    <tr>\n",
       "      <th>2</th>\n",
       "      <td>Texas Two Step</td>\n",
       "      <td>5</td>\n",
       "      <td>29</td>\n",
       "      <td>2001</td>\n",
       "      <td>23</td>\n",
       "      <td>35</td>\n",
       "      <td>28</td>\n",
       "      <td>17</td>\n",
       "      <td>20</td>\n",
       "    </tr>\n",
       "    <tr>\n",
       "      <th>3</th>\n",
       "      <td>Texas Two Step</td>\n",
       "      <td>6</td>\n",
       "      <td>1</td>\n",
       "      <td>2001</td>\n",
       "      <td>16</td>\n",
       "      <td>11</td>\n",
       "      <td>28</td>\n",
       "      <td>4</td>\n",
       "      <td>31</td>\n",
       "    </tr>\n",
       "    <tr>\n",
       "      <th>4</th>\n",
       "      <td>Texas Two Step</td>\n",
       "      <td>6</td>\n",
       "      <td>5</td>\n",
       "      <td>2001</td>\n",
       "      <td>32</td>\n",
       "      <td>4</td>\n",
       "      <td>28</td>\n",
       "      <td>34</td>\n",
       "      <td>20</td>\n",
       "    </tr>\n",
       "  </tbody>\n",
       "</table>\n",
       "</div>"
      ],
      "text/plain": [
       "   Texas Two Step  5  18  2001   9  10  22  13   1\n",
       "0  Texas Two Step  5  22  2001  30  34  23   4  13\n",
       "1  Texas Two Step  5  25  2001   3  29  18  33  17\n",
       "2  Texas Two Step  5  29  2001  23  35  28  17  20\n",
       "3  Texas Two Step  6   1  2001  16  11  28   4  31\n",
       "4  Texas Two Step  6   5  2001  32   4  28  34  20"
      ]
     },
     "execution_count": 3,
     "metadata": {},
     "output_type": "execute_result"
    }
   ],
   "source": [
    "import numpy as np\n",
    "import pandas as pd\n",
    "import matplotlib.pyplot as plt\n",
    "from scipy import stats\n",
    "from math import sqrt\n",
    "import seaborn as sns\n",
    "from pydataset import data\n",
    "import random\n",
    "from collections import Counter\n",
    "plt.rcParams['figure.figsize']=(13,7)\n",
    "\n",
    "csv_url = 'https://txlottery.org/export/sites/lottery/Games/Texas_Two_Step/Winning_Numbers/texastwostep.csv'\n",
    "df = pd.read_csv(csv_url)\n",
    "\n",
    "df.head()"
   ]
  },
  {
   "cell_type": "markdown",
   "metadata": {},
   "source": [
    "# Cleaning the DataFrame"
   ]
  },
  {
   "cell_type": "code",
   "execution_count": 4,
   "metadata": {
    "scrolled": false
   },
   "outputs": [
    {
     "data": {
      "text/html": [
       "<div>\n",
       "<style scoped>\n",
       "    .dataframe tbody tr th:only-of-type {\n",
       "        vertical-align: middle;\n",
       "    }\n",
       "\n",
       "    .dataframe tbody tr th {\n",
       "        vertical-align: top;\n",
       "    }\n",
       "\n",
       "    .dataframe thead th {\n",
       "        text-align: right;\n",
       "    }\n",
       "</style>\n",
       "<table border=\"1\" class=\"dataframe\">\n",
       "  <thead>\n",
       "    <tr style=\"text-align: right;\">\n",
       "      <th></th>\n",
       "      <th>N0</th>\n",
       "      <th>N1</th>\n",
       "      <th>N2</th>\n",
       "      <th>N3</th>\n",
       "      <th>N4</th>\n",
       "    </tr>\n",
       "  </thead>\n",
       "  <tbody>\n",
       "    <tr>\n",
       "      <th>0</th>\n",
       "      <td>9</td>\n",
       "      <td>10</td>\n",
       "      <td>22</td>\n",
       "      <td>13</td>\n",
       "      <td>1</td>\n",
       "    </tr>\n",
       "    <tr>\n",
       "      <th>1</th>\n",
       "      <td>30</td>\n",
       "      <td>34</td>\n",
       "      <td>23</td>\n",
       "      <td>4</td>\n",
       "      <td>13</td>\n",
       "    </tr>\n",
       "    <tr>\n",
       "      <th>2</th>\n",
       "      <td>3</td>\n",
       "      <td>29</td>\n",
       "      <td>18</td>\n",
       "      <td>33</td>\n",
       "      <td>17</td>\n",
       "    </tr>\n",
       "    <tr>\n",
       "      <th>3</th>\n",
       "      <td>23</td>\n",
       "      <td>35</td>\n",
       "      <td>28</td>\n",
       "      <td>17</td>\n",
       "      <td>20</td>\n",
       "    </tr>\n",
       "    <tr>\n",
       "      <th>4</th>\n",
       "      <td>16</td>\n",
       "      <td>11</td>\n",
       "      <td>28</td>\n",
       "      <td>4</td>\n",
       "      <td>31</td>\n",
       "    </tr>\n",
       "  </tbody>\n",
       "</table>\n",
       "</div>"
      ],
      "text/plain": [
       "   N0  N1  N2  N3  N4\n",
       "0   9  10  22  13   1\n",
       "1  30  34  23   4  13\n",
       "2   3  29  18  33  17\n",
       "3  23  35  28  17  20\n",
       "4  16  11  28   4  31"
      ]
     },
     "execution_count": 4,
     "metadata": {},
     "output_type": "execute_result"
    }
   ],
   "source": [
    "data=[]\n",
    "data.insert(0,{'Texas Two Step':'Texas Two Step','5':'5','18':'18','2001':'2001','9':'9','10':'10','22':'22','13':'13','1':'1'})\n",
    "df = pd.concat([pd.DataFrame(data),df],ignore_index=True)\n",
    "df.columns = ['game','M','D','Y','N0','N1','N2','N3','N4']\n",
    "lotto = df.drop([\"game\", \"M\", \"D\", \"Y\"], axis=1)\n",
    "lotto.head()"
   ]
  },
  {
   "cell_type": "markdown",
   "metadata": {},
   "source": [
    "# Number Frequency"
   ]
  },
  {
   "cell_type": "code",
   "execution_count": 7,
   "metadata": {
    "scrolled": false
   },
   "outputs": [
    {
     "data": {
      "image/png": "[encoded data removed]",
      "text/plain": [
       "<Figure size 936x504 with 1 Axes>"
      ]
     },
     "metadata": {
      "needs_background": "light"
     },
     "output_type": "display_data"
    },
    {
     "data": {
      "image/png": "[encoded data removed]",
      "text/plain": [
       "<Figure size 936x504 with 1 Axes>"
      ]
     },
     "metadata": {
      "needs_background": "light"
     },
     "output_type": "display_data"
    },
    {
     "data": {
      "image/png": "[encoded data removed]",
      "text/plain": [
       "<Figure size 936x504 with 1 Axes>"
      ]
     },
     "metadata": {
      "needs_background": "light"
     },
     "output_type": "display_data"
    },
    {
     "data": {
      "image/png": "[encoded data removed]",
      "text/plain": [
       "<Figure size 936x504 with 1 Axes>"
      ]
     },
     "metadata": {
      "needs_background": "light"
     },
     "output_type": "display_data"
    },
    {
     "data": {
      "image/png": "[encoded data removed]",
      "text/plain": [
       "<Figure size 936x504 with 1 Axes>"
      ]
     },
     "metadata": {
      "needs_background": "light"
     },
     "output_type": "display_data"
    }
   ],
   "source": [
    "firsttop5 = lotto.N0.value_counts().rename_axis('First_Num').reset_index(name='Frequency')\n",
    "sns.barplot(data=firsttop5, x='First_Num', y= 'Frequency', palette = 'mako')\n",
    "plt.title('1st Drawn Number', fontsize=13)\n",
    "plt.show()\n",
    "\n",
    "secondtop5 = lotto.N1.value_counts().rename_axis('second_Num').reset_index(name='Frequency')\n",
    "sns.barplot(data=secondtop5, x='second_Num', y= 'Frequency', palette = 'mako')\n",
    "plt.title('2nd Drawn Number', fontsize=13)\n",
    "plt.show()\n",
    "\n",
    "thirdtop5 = lotto.N2.value_counts().rename_axis('third_Num').reset_index(name='Frequency')\n",
    "sns.barplot(data=thirdtop5, x='third_Num', y= 'Frequency', palette = 'mako')\n",
    "plt.title('3rd Drawn Number', fontsize=13)\n",
    "plt.show()\n",
    "\n",
    "fourthtop5 = lotto.N3.value_counts().rename_axis('Fourth_Num').reset_index(name='Frequency')\n",
    "sns.barplot(data=fourthtop5, x='Fourth_Num', y= 'Frequency', palette = 'mako')\n",
    "plt.title('4th Drawn Number', fontsize=13)\n",
    "plt.show()\n",
    "\n",
    "fifthtop5 = lotto.N4.value_counts().rename_axis('Bonus_Ball').reset_index(name='Frequency')\n",
    "sns.barplot(data=fifthtop5, x='Bonus_Ball', y= 'Frequency', palette = 'mako')\n",
    "plt.title('Bonus Ball', fontsize=13)\n",
    "plt.show()"
   ]
  },
  {
   "cell_type": "markdown",
   "metadata": {},
   "source": [
    "# Texas 2 Step Number Generator"
   ]
  },
  {
   "cell_type": "code",
   "execution_count": 15,
   "metadata": {
    "scrolled": true
   },
   "outputs": [
    {
     "name": "stdout",
     "output_type": "stream",
     "text": [
      "first column count is 2036\n",
      "        5\n",
      "second column count is 2036\n",
      "fixed second column count is 1985\n",
      "        33\n",
      "third column count is 2036\n",
      "fixed third column count is 1918\n",
      "        2\n",
      "fourth column count is 2036\n",
      "fixed fourth column count is 1858\n",
      "        19\n",
      "fifth column count is 2036\n",
      "Bonus ball column count is 2036\n",
      "        10\n",
      "5 - 33 - 2 - 19 - 10\n"
     ]
    }
   ],
   "source": [
    "######################################################################\n",
    "######################################################################\n",
    "# LAMBDA FUNCTION\n",
    "# First number\n",
    "\n",
    "first_column = lotto['N0'].tolist()\n",
    "print('first column count is', len(first_column))\n",
    "\n",
    "first_num = random.choice(first_column)\n",
    "print('       ',first_num)\n",
    "\n",
    "################# Second number\n",
    "\n",
    "second_column = lotto['N1'].tolist()\n",
    "print('second column count is', len(second_column))\n",
    "\n",
    "fixed_second = list(filter(lambda x: x != first_num, second_column))\n",
    "print('fixed second column count is', len(fixed_second))\n",
    "\n",
    "second_num = random.choice(fixed_second)\n",
    "print('       ',second_num)\n",
    "\n",
    "################# Third number\n",
    "\n",
    "third_column = lotto['N2'].tolist()\n",
    "print('third column count is', len(third_column))\n",
    "\n",
    "third = list(filter(lambda x: x != first_num, third_column))\n",
    "fixed_third = list(filter(lambda x: x != second_num, third))\n",
    "print('fixed third column count is', len(fixed_third))\n",
    "\n",
    "third_num = random.choice(fixed_third)\n",
    "print('       ',third_num)\n",
    "\n",
    "################# Fourth number\n",
    "\n",
    "fourth_column = lotto['N3'].tolist()\n",
    "print('fourth column count is', len(fourth_column))\n",
    "\n",
    "four = list(filter(lambda x: x != first_num, fourth_column))\n",
    "fourth = list(filter(lambda x: x != second_num, four))\n",
    "fixed_fourth = list(filter(lambda x: x != third_num, fourth))\n",
    "print('fixed fourth column count is', len(fixed_fourth))\n",
    "\n",
    "fourth_num = random.choice(fixed_fourth)\n",
    "print('       ',fourth_num)\n",
    "\n",
    "################# Bonus number\n",
    "\n",
    "fifth_column = lotto['N4'].tolist()\n",
    "print('fifth column count is', len(fifth_column))\n",
    "print('Bonus ball column count is', len(fifth_column))\n",
    "fifth_num = random.choice(fifth_column)\n",
    "print('       ',fifth_num)\n",
    "\n",
    "\n",
    "print(first_num,'-', second_num,'-', third_num,'-', fourth_num,'-', fifth_num)\n",
    "print('- - - - - - - - - - - - - - - - - - - - - - - - - - - - - - - - - - - - -')\n",
    "print('')"
   ]
  },
  {
   "cell_type": "markdown",
   "metadata": {},
   "source": [
    "# All-In-One Number Generator function"
   ]
  },
  {
   "cell_type": "code",
   "execution_count": 21,
   "metadata": {},
   "outputs": [],
   "source": [
    "import numpy as np\n",
    "import pandas as pd\n",
    "import random\n",
    "\n",
    "def texas2step():\n",
    "    csv_url = 'https://txlottery.org/export/sites/lottery/Games/Texas_Two_Step/Winning_Numbers/texastwostep.csv'\n",
    "    df = pd.read_csv(csv_url)\n",
    "    \n",
    "    data=[]\n",
    "    data.insert(0,{'Texas Two Step':'Texas Two Step','5':'5','18':'18','2001':'2001','9':'9','10':'10','22':'22','13':'13','1':'1'})\n",
    "    df = pd.concat([pd.DataFrame(data),df],ignore_index=True)\n",
    "    df.columns = ['game','M','D','Y','N0','N1','N2','N3','N4']\n",
    "    lotto = df.drop([\"game\", \"M\", \"D\", \"Y\"], axis=1)\n",
    "    \n",
    "    first_column = lotto['N0'].tolist()\n",
    "    print('first column count is', len(first_column))\n",
    "\n",
    "    first_num = random.choice(first_column)\n",
    "    print('       ',first_num)\n",
    "\n",
    "    ################# Second number\n",
    "\n",
    "    second_column = lotto['N1'].tolist()\n",
    "    print('second column count is', len(second_column))\n",
    "\n",
    "    fixed_second = list(filter(lambda x: x != first_num, second_column))\n",
    "    print('fixed second column count is', len(fixed_second))\n",
    "\n",
    "    second_num = random.choice(fixed_second)\n",
    "    print('       ',second_num)\n",
    "\n",
    "    ################# Third number\n",
    "\n",
    "    third_column = lotto['N2'].tolist()\n",
    "    print('third column count is', len(third_column))\n",
    "\n",
    "    third = list(filter(lambda x: x != first_num, third_column))\n",
    "    fixed_third = list(filter(lambda x: x != second_num, third))\n",
    "    print('fixed third column count is', len(fixed_third))\n",
    "\n",
    "    third_num = random.choice(fixed_third)\n",
    "    print('       ',third_num)\n",
    "\n",
    "    ################# Fourth number\n",
    "\n",
    "    fourth_column = lotto['N3'].tolist()\n",
    "    print('fourth column count is', len(fourth_column))\n",
    "\n",
    "    four = list(filter(lambda x: x != first_num, fourth_column))\n",
    "    fourth = list(filter(lambda x: x != second_num, four))\n",
    "    fixed_fourth = list(filter(lambda x: x != third_num, fourth))\n",
    "    print('fixed fourth column count is', len(fixed_fourth))\n",
    "\n",
    "    fourth_num = random.choice(fixed_fourth)\n",
    "    print('       ',fourth_num)\n",
    "\n",
    "    ################# Bonus number\n",
    "\n",
    "    fifth_column = lotto['N4'].tolist()\n",
    "    print('fifth column count is', len(fifth_column))\n",
    "    print('Bonus ball column count is', len(fifth_column))\n",
    "    fifth_num = random.choice(fifth_column)\n",
    "    print('       ',fifth_num)\n",
    "    print('')\n",
    "    print('>>>>>>>>>>', first_num,'-', second_num,'-', third_num,'-', fourth_num, '   BB-',fifth_num)\n",
    "    print('')\n",
    "    print('- - - - - - - - - - - - - - - - - - - - - - - - - - - - - - - - - - - - -')\n",
    "    print('')"
   ]
  },
  {
   "cell_type": "code",
   "execution_count": 22,
   "metadata": {},
   "outputs": [
    {
     "name": "stdout",
     "output_type": "stream",
     "text": [
      "first column count is 2056\n",
      "        10\n",
      "second column count is 2056\n",
      "fixed second column count is 1999\n",
      "        6\n",
      "third column count is 2056\n",
      "fixed third column count is 1941\n",
      "        22\n",
      "fourth column count is 2056\n",
      "fixed fourth column count is 1894\n",
      "        31\n",
      "fifth column count is 2056\n",
      "Bonus ball column count is 2056\n",
      "        11\n",
      "\n",
      ">>>>>>>>>> 10 - 6 - 22 - 31    BB- 11\n",
      "\n",
      "- - - - - - - - - - - - - - - - - - - - - - - - - - - - - - - - - - - - -\n",
      "\n",
      "first column count is 2056\n",
      "        32\n",
      "second column count is 2056\n",
      "fixed second column count is 2006\n",
      "        35\n",
      "third column count is 2056\n",
      "fixed third column count is 1938\n",
      "        12\n",
      "fourth column count is 2056\n",
      "fixed fourth column count is 1902\n",
      "        2\n",
      "fifth column count is 2056\n",
      "Bonus ball column count is 2056\n",
      "        13\n",
      "\n",
      ">>>>>>>>>> 32 - 35 - 12 - 2    BB- 13\n",
      "\n",
      "- - - - - - - - - - - - - - - - - - - - - - - - - - - - - - - - - - - - -\n",
      "\n",
      "first column count is 2056\n",
      "        8\n",
      "second column count is 2056\n",
      "fixed second column count is 2002\n",
      "        30\n",
      "third column count is 2056\n",
      "fixed third column count is 1951\n",
      "        29\n",
      "fourth column count is 2056\n",
      "fixed fourth column count is 1860\n",
      "        34\n",
      "fifth column count is 2056\n",
      "Bonus ball column count is 2056\n",
      "        24\n",
      "\n",
      ">>>>>>>>>> 8 - 30 - 29 - 34    BB- 24\n",
      "\n",
      "- - - - - - - - - - - - - - - - - - - - - - - - - - - - - - - - - - - - -\n",
      "\n"
     ]
    }
   ],
   "source": [
    "for _ in range(3):\n",
    "    texas2step()"
   ]
  },
  {
   "cell_type": "code",
   "execution_count": null,
   "metadata": {},
   "outputs": [],
   "source": []
  }
 ],
 "metadata": {
  "kernelspec": {
   "display_name": "Python 3",
   "language": "python",
   "name": "python3"
  },
  "language_info": {
   "codemirror_mode": {
    "name": "ipython",
    "version": 3
   },
   "file_extension": ".py",
   "mimetype": "text/x-python",
   "name": "python",
   "nbconvert_exporter": "python",
   "pygments_lexer": "ipython3",
   "version": "3.7.6"
  }
 },
 "nbformat": 4,
 "nbformat_minor": 4
}
