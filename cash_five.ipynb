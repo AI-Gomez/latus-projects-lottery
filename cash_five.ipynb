{
 "cells": [
  {
   "cell_type": "markdown",
   "metadata": {
    "scrolled": true
   },
   "source": [
    "![](https://www.txlottery.org/export/sites/lottery/Images/cash_five_logo.gif)"
   ]
  },
  {
   "cell_type": "markdown",
   "metadata": {},
   "source": [
    "![](https://www.txlottery.org/export/sites/lottery/Images/cash_five_prizechart_1000_x_650.png)"
   ]
  },
  {
   "cell_type": "code",
   "execution_count": 11,
   "metadata": {},
   "outputs": [
    {
     "data": {
      "text/html": [
       "<div>\n",
       "<style scoped>\n",
       "    .dataframe tbody tr th:only-of-type {\n",
       "        vertical-align: middle;\n",
       "    }\n",
       "\n",
       "    .dataframe tbody tr th {\n",
       "        vertical-align: top;\n",
       "    }\n",
       "\n",
       "    .dataframe thead th {\n",
       "        text-align: right;\n",
       "    }\n",
       "</style>\n",
       "<table border=\"1\" class=\"dataframe\">\n",
       "  <thead>\n",
       "    <tr style=\"text-align: right;\">\n",
       "      <th></th>\n",
       "      <th>Cash Five</th>\n",
       "      <th>10</th>\n",
       "      <th>13</th>\n",
       "      <th>1995</th>\n",
       "      <th>26</th>\n",
       "      <th>1</th>\n",
       "      <th>22</th>\n",
       "      <th>23</th>\n",
       "      <th>35</th>\n",
       "    </tr>\n",
       "  </thead>\n",
       "  <tbody>\n",
       "    <tr>\n",
       "      <th>7086</th>\n",
       "      <td>Cash Five</td>\n",
       "      <td>1</td>\n",
       "      <td>20</td>\n",
       "      <td>2021</td>\n",
       "      <td>32</td>\n",
       "      <td>22</td>\n",
       "      <td>15</td>\n",
       "      <td>5</td>\n",
       "      <td>33</td>\n",
       "    </tr>\n",
       "    <tr>\n",
       "      <th>7087</th>\n",
       "      <td>Cash Five</td>\n",
       "      <td>1</td>\n",
       "      <td>21</td>\n",
       "      <td>2021</td>\n",
       "      <td>28</td>\n",
       "      <td>7</td>\n",
       "      <td>15</td>\n",
       "      <td>22</td>\n",
       "      <td>32</td>\n",
       "    </tr>\n",
       "    <tr>\n",
       "      <th>7088</th>\n",
       "      <td>Cash Five</td>\n",
       "      <td>1</td>\n",
       "      <td>22</td>\n",
       "      <td>2021</td>\n",
       "      <td>30</td>\n",
       "      <td>9</td>\n",
       "      <td>6</td>\n",
       "      <td>26</td>\n",
       "      <td>10</td>\n",
       "    </tr>\n",
       "    <tr>\n",
       "      <th>7089</th>\n",
       "      <td>Cash Five</td>\n",
       "      <td>1</td>\n",
       "      <td>23</td>\n",
       "      <td>2021</td>\n",
       "      <td>35</td>\n",
       "      <td>10</td>\n",
       "      <td>11</td>\n",
       "      <td>31</td>\n",
       "      <td>15</td>\n",
       "    </tr>\n",
       "    <tr>\n",
       "      <th>7090</th>\n",
       "      <td>Cash Five</td>\n",
       "      <td>1</td>\n",
       "      <td>25</td>\n",
       "      <td>2021</td>\n",
       "      <td>27</td>\n",
       "      <td>30</td>\n",
       "      <td>33</td>\n",
       "      <td>21</td>\n",
       "      <td>8</td>\n",
       "    </tr>\n",
       "  </tbody>\n",
       "</table>\n",
       "</div>"
      ],
      "text/plain": [
       "      Cash Five  10  13  1995  26   1  22  23  35\n",
       "7086  Cash Five   1  20  2021  32  22  15   5  33\n",
       "7087  Cash Five   1  21  2021  28   7  15  22  32\n",
       "7088  Cash Five   1  22  2021  30   9   6  26  10\n",
       "7089  Cash Five   1  23  2021  35  10  11  31  15\n",
       "7090  Cash Five   1  25  2021  27  30  33  21   8"
      ]
     },
     "execution_count": 11,
     "metadata": {},
     "output_type": "execute_result"
    }
   ],
   "source": [
    "import numpy as np\n",
    "import pandas as pd\n",
    "import matplotlib.pyplot as plt\n",
    "from scipy import stats\n",
    "from math import sqrt\n",
    "import seaborn as sns\n",
    "from pydataset import data\n",
    "import random\n",
    "from collections import Counter\n",
    "import requests\n",
    "plt.rcParams['figure.figsize']=(13,7)\n",
    "\n",
    "csv_url = 'https://txlottery.org/export/sites/lottery/Games/Cash_Five/Winning_Numbers/cashfive.csv'\n",
    "df = pd.read_csv(csv_url)\n",
    "\n",
    "df.head()\n",
    "df.tail()"
   ]
  },
  {
   "cell_type": "code",
   "execution_count": 12,
   "metadata": {},
   "outputs": [],
   "source": [
    "data=[]\n",
    "data.insert(0,{'Cash Five':'Cash Five','10':'10','13':'13','1995':'1995','26':'26','1':'1','22':'22','23':'23','35':'35'})\n",
    "df = pd.concat([pd.DataFrame(data),df],ignore_index=True)\n",
    "# renaming the columns\n",
    "df.columns = ['game','month','day','year','N0','N1','N2','N3','N4']\n"
   ]
  },
  {
   "cell_type": "code",
   "execution_count": 13,
   "metadata": {},
   "outputs": [
    {
     "data": {
      "text/html": [
       "<div>\n",
       "<style scoped>\n",
       "    .dataframe tbody tr th:only-of-type {\n",
       "        vertical-align: middle;\n",
       "    }\n",
       "\n",
       "    .dataframe tbody tr th {\n",
       "        vertical-align: top;\n",
       "    }\n",
       "\n",
       "    .dataframe thead th {\n",
       "        text-align: right;\n",
       "    }\n",
       "</style>\n",
       "<table border=\"1\" class=\"dataframe\">\n",
       "  <thead>\n",
       "    <tr style=\"text-align: right;\">\n",
       "      <th></th>\n",
       "      <th>game</th>\n",
       "      <th>month</th>\n",
       "      <th>day</th>\n",
       "      <th>year</th>\n",
       "      <th>N0</th>\n",
       "      <th>N1</th>\n",
       "      <th>N2</th>\n",
       "      <th>N3</th>\n",
       "      <th>N4</th>\n",
       "      <th>date</th>\n",
       "    </tr>\n",
       "  </thead>\n",
       "  <tbody>\n",
       "    <tr>\n",
       "      <th>6359</th>\n",
       "      <td>Cash Five</td>\n",
       "      <td>9</td>\n",
       "      <td>24</td>\n",
       "      <td>2018</td>\n",
       "      <td>15</td>\n",
       "      <td>20</td>\n",
       "      <td>8</td>\n",
       "      <td>16</td>\n",
       "      <td>35</td>\n",
       "      <td>2018-09-24</td>\n",
       "    </tr>\n",
       "    <tr>\n",
       "      <th>6360</th>\n",
       "      <td>Cash Five</td>\n",
       "      <td>9</td>\n",
       "      <td>25</td>\n",
       "      <td>2018</td>\n",
       "      <td>27</td>\n",
       "      <td>11</td>\n",
       "      <td>24</td>\n",
       "      <td>5</td>\n",
       "      <td>6</td>\n",
       "      <td>2018-09-25</td>\n",
       "    </tr>\n",
       "    <tr>\n",
       "      <th>6361</th>\n",
       "      <td>Cash Five</td>\n",
       "      <td>9</td>\n",
       "      <td>26</td>\n",
       "      <td>2018</td>\n",
       "      <td>18</td>\n",
       "      <td>9</td>\n",
       "      <td>14</td>\n",
       "      <td>5</td>\n",
       "      <td>8</td>\n",
       "      <td>2018-09-26</td>\n",
       "    </tr>\n",
       "    <tr>\n",
       "      <th>6362</th>\n",
       "      <td>Cash Five</td>\n",
       "      <td>9</td>\n",
       "      <td>27</td>\n",
       "      <td>2018</td>\n",
       "      <td>29</td>\n",
       "      <td>9</td>\n",
       "      <td>22</td>\n",
       "      <td>23</td>\n",
       "      <td>15</td>\n",
       "      <td>2018-09-27</td>\n",
       "    </tr>\n",
       "    <tr>\n",
       "      <th>6363</th>\n",
       "      <td>Cash Five</td>\n",
       "      <td>9</td>\n",
       "      <td>28</td>\n",
       "      <td>2018</td>\n",
       "      <td>30</td>\n",
       "      <td>10</td>\n",
       "      <td>32</td>\n",
       "      <td>2</td>\n",
       "      <td>23</td>\n",
       "      <td>2018-09-28</td>\n",
       "    </tr>\n",
       "  </tbody>\n",
       "</table>\n",
       "</div>"
      ],
      "text/plain": [
       "           game month day  year  N0  N1  N2  N3  N4       date\n",
       "6359  Cash Five     9  24  2018  15  20   8  16  35 2018-09-24\n",
       "6360  Cash Five     9  25  2018  27  11  24   5   6 2018-09-25\n",
       "6361  Cash Five     9  26  2018  18   9  14   5   8 2018-09-26\n",
       "6362  Cash Five     9  27  2018  29   9  22  23  15 2018-09-27\n",
       "6363  Cash Five     9  28  2018  30  10  32   2  23 2018-09-28"
      ]
     },
     "execution_count": 13,
     "metadata": {},
     "output_type": "execute_result"
    }
   ],
   "source": [
    "# converting the date to date time\n",
    "df['date'] = pd.to_datetime(df[['month','day','year']])\n",
    "# dropping all number sets prior to 09-24-2018 due to new game format\n",
    "df = df[(df['date'] > '2018-09-23')]\n",
    "df.head()"
   ]
  },
  {
   "cell_type": "markdown",
   "metadata": {},
   "source": [
    "# Cleaning up the DataFrame"
   ]
  },
  {
   "cell_type": "code",
   "execution_count": 14,
   "metadata": {
    "scrolled": true
   },
   "outputs": [
    {
     "data": {
      "text/html": [
       "<div>\n",
       "<style scoped>\n",
       "    .dataframe tbody tr th:only-of-type {\n",
       "        vertical-align: middle;\n",
       "    }\n",
       "\n",
       "    .dataframe tbody tr th {\n",
       "        vertical-align: top;\n",
       "    }\n",
       "\n",
       "    .dataframe thead th {\n",
       "        text-align: right;\n",
       "    }\n",
       "</style>\n",
       "<table border=\"1\" class=\"dataframe\">\n",
       "  <thead>\n",
       "    <tr style=\"text-align: right;\">\n",
       "      <th></th>\n",
       "      <th>N0</th>\n",
       "      <th>N1</th>\n",
       "      <th>N2</th>\n",
       "      <th>N3</th>\n",
       "      <th>N4</th>\n",
       "    </tr>\n",
       "  </thead>\n",
       "  <tbody>\n",
       "    <tr>\n",
       "      <th>6359</th>\n",
       "      <td>15</td>\n",
       "      <td>20</td>\n",
       "      <td>8</td>\n",
       "      <td>16</td>\n",
       "      <td>35</td>\n",
       "    </tr>\n",
       "    <tr>\n",
       "      <th>6360</th>\n",
       "      <td>27</td>\n",
       "      <td>11</td>\n",
       "      <td>24</td>\n",
       "      <td>5</td>\n",
       "      <td>6</td>\n",
       "    </tr>\n",
       "    <tr>\n",
       "      <th>6361</th>\n",
       "      <td>18</td>\n",
       "      <td>9</td>\n",
       "      <td>14</td>\n",
       "      <td>5</td>\n",
       "      <td>8</td>\n",
       "    </tr>\n",
       "    <tr>\n",
       "      <th>6362</th>\n",
       "      <td>29</td>\n",
       "      <td>9</td>\n",
       "      <td>22</td>\n",
       "      <td>23</td>\n",
       "      <td>15</td>\n",
       "    </tr>\n",
       "    <tr>\n",
       "      <th>6363</th>\n",
       "      <td>30</td>\n",
       "      <td>10</td>\n",
       "      <td>32</td>\n",
       "      <td>2</td>\n",
       "      <td>23</td>\n",
       "    </tr>\n",
       "  </tbody>\n",
       "</table>\n",
       "</div>"
      ],
      "text/plain": [
       "      N0  N1  N2  N3  N4\n",
       "6359  15  20   8  16  35\n",
       "6360  27  11  24   5   6\n",
       "6361  18   9  14   5   8\n",
       "6362  29   9  22  23  15\n",
       "6363  30  10  32   2  23"
      ]
     },
     "execution_count": 14,
     "metadata": {},
     "output_type": "execute_result"
    }
   ],
   "source": [
    "# dropping columns not needed to generate numbers\n",
    "lotto = df.drop([\"game\", \"month\", \"day\", \"year\", \"date\"], axis=1)\n",
    "lotto.head()"
   ]
  },
  {
   "cell_type": "markdown",
   "metadata": {},
   "source": [
    "# Number Frequency"
   ]
  },
  {
   "cell_type": "code",
   "execution_count": 15,
   "metadata": {
    "scrolled": false
   },
   "outputs": [
    {
     "data": {
      "image/png": "[encoded data removed]",
      "text/plain": [
       "<Figure size 936x504 with 1 Axes>"
      ]
     },
     "metadata": {
      "needs_background": "light"
     },
     "output_type": "display_data"
    },
    {
     "data": {
      "image/png": "[encoded data removed]",
      "text/plain": [
       "<Figure size 936x504 with 1 Axes>"
      ]
     },
     "metadata": {
      "needs_background": "light"
     },
     "output_type": "display_data"
    },
    {
     "data": {
      "image/png": "[encoded data removed]",
      "text/plain": [
       "<Figure size 936x504 with 1 Axes>"
      ]
     },
     "metadata": {
      "needs_background": "light"
     },
     "output_type": "display_data"
    },
    {
     "data": {
      "image/png": "[encoded data removed]",
      "text/plain": [
       "<Figure size 936x504 with 1 Axes>"
      ]
     },
     "metadata": {
      "needs_background": "light"
     },
     "output_type": "display_data"
    },
    {
     "data": {
      "image/png": "[encoded data removed]",
      "text/plain": [
       "<Figure size 936x504 with 1 Axes>"
      ]
     },
     "metadata": {
      "needs_background": "light"
     },
     "output_type": "display_data"
    }
   ],
   "source": [
    "firsttop5 = lotto.N0.value_counts().rename_axis('First_Num').reset_index(name='Frequency')\n",
    "sns.barplot(data=firsttop5, x='First_Num', y= 'Frequency', palette = 'mako')\n",
    "plt.title('1st Drawn Number', fontsize=13)\n",
    "plt.show()\n",
    "\n",
    "secondtop5 = lotto.N1.value_counts().rename_axis('second_Num').reset_index(name='Frequency')\n",
    "sns.barplot(data=secondtop5, x='second_Num', y= 'Frequency', palette = 'mako')\n",
    "plt.title('2nd Drawn Number', fontsize=13)\n",
    "plt.show()\n",
    "\n",
    "thirdtop5 = lotto.N2.value_counts().rename_axis('third_Num').reset_index(name='Frequency')\n",
    "sns.barplot(data=thirdtop5, x='third_Num', y= 'Frequency', palette = 'mako')\n",
    "plt.title('3rd Drawn Number', fontsize=13)\n",
    "plt.show()\n",
    "\n",
    "fourthtop5 = lotto.N3.value_counts().rename_axis('Fourth_Num').reset_index(name='Frequency')\n",
    "sns.barplot(data=fourthtop5, x='Fourth_Num', y= 'Frequency', palette = 'mako')\n",
    "plt.title('4th Drawn Number', fontsize=13)\n",
    "plt.show()\n",
    "\n",
    "fifthtop5 = lotto.N4.value_counts().rename_axis('Fifth_Num').reset_index(name='Frequency')\n",
    "sns.barplot(data=fifthtop5, x='Fifth_Num', y= 'Frequency', palette = 'mako')\n",
    "plt.title('5th Drawn Number', fontsize=13)\n",
    "plt.show()"
   ]
  },
  {
   "cell_type": "markdown",
   "metadata": {},
   "source": [
    "# Cash 5 Number Generator"
   ]
  },
  {
   "cell_type": "code",
   "execution_count": 16,
   "metadata": {
    "scrolled": true
   },
   "outputs": [
    {
     "name": "stdout",
     "output_type": "stream",
     "text": [
      "first column count is 733\n",
      "        15\n",
      "second column count is 733\n",
      "fixed second column count is 716\n",
      "        25\n",
      "third column count is 733\n",
      "fixed third column count is 681\n",
      "        29\n",
      "fourth column count is 733\n",
      "fixed fourth column count is 669\n",
      "        13\n",
      "fifth column count is 733\n",
      "fixed fitfth column count is 662\n",
      "        3\n",
      "\n",
      "15 - 25 - 29 - 13 - 3\n"
     ]
    }
   ],
   "source": [
    "######################################################################\n",
    "######################################################################\n",
    "# LAMBDA FUNCTION\n",
    "# First number\n",
    "first_column = lotto['N0'].tolist()\n",
    "print('first column count is', len(first_column))\n",
    "\n",
    "first_num = random.choice(first_column)\n",
    "print('       ',first_num)\n",
    "################# Second number\n",
    "second_column = lotto['N1'].tolist()\n",
    "print('second column count is', len(second_column))\n",
    "\n",
    "fixed_second = list(filter(lambda x: x != first_num, second_column))\n",
    "print('fixed second column count is', len(fixed_second))\n",
    "\n",
    "second_num = random.choice(fixed_second)\n",
    "print('       ',second_num)\n",
    "################# Third number\n",
    "third_column = lotto['N2'].tolist()\n",
    "print('third column count is', len(third_column))\n",
    "\n",
    "third = list(filter(lambda x: x != first_num, third_column))\n",
    "fixed_third = list(filter(lambda x: x != second_num, third))\n",
    "print('fixed third column count is', len(fixed_third))\n",
    "\n",
    "third_num = random.choice(fixed_third)\n",
    "print('       ',third_num)\n",
    "################# Fourth number\n",
    "fourth_column = lotto['N3'].tolist()\n",
    "print('fourth column count is', len(fourth_column))\n",
    "\n",
    "four = list(filter(lambda x: x != first_num, fourth_column))\n",
    "fourth = list(filter(lambda x: x != second_num, four))\n",
    "fixed_fourth = list(filter(lambda x: x != third_num, fourth))\n",
    "print('fixed fourth column count is', len(fixed_fourth))\n",
    "\n",
    "fourth_num = random.choice(fixed_fourth)\n",
    "print('       ',fourth_num)\n",
    "################# Fifth number\n",
    "fifth_column = lotto['N4'].tolist()\n",
    "print('fifth column count is', len(fifth_column))\n",
    "\n",
    "five = list(filter(lambda x: x != first_num, fifth_column))\n",
    "fives = list(filter(lambda x: x != second_num, five))\n",
    "fifth = list(filter(lambda x: x != third_num, fives))\n",
    "fixed_fifth = list(filter(lambda x: x != fourth_num, fifth))\n",
    "print('fixed fitfth column count is', len(fixed_fifth))\n",
    "\n",
    "fifth_num = random.choice(fixed_fifth)\n",
    "print('       ',fifth_num)\n",
    "\n",
    "print('')\n",
    "print(first_num,'-', second_num,'-', third_num,'-', fourth_num,'-', fifth_num)"
   ]
  },
  {
   "cell_type": "markdown",
   "metadata": {},
   "source": [
    "# All-in-One Generator Function"
   ]
  },
  {
   "cell_type": "code",
   "execution_count": 19,
   "metadata": {
    "scrolled": true
   },
   "outputs": [],
   "source": [
    "import numpy as np\n",
    "import pandas as pd\n",
    "import random\n",
    "\n",
    "\n",
    "def cashfive_numbers():\n",
    "    \n",
    "    csv_url = 'https://txlottery.org/export/sites/lottery/Games/Cash_Five/Winning_Numbers/cashfive.csv'\n",
    "    df = pd.read_csv(csv_url)\n",
    "    \n",
    "    data=[]\n",
    "    data.insert(0,{'Cash Five':'Cash Five','10':'10','13':'13','1995':'1995','26':'26','1':'1','22':'22','23':'23','35':'35'})\n",
    "    df = pd.concat([pd.DataFrame(data),df],ignore_index=True)\n",
    "    # renaming the columns\n",
    "    df.columns = ['game','month','day','year','N0','N1','N2','N3','N4']\n",
    "    \n",
    "    # converting the date to date time\n",
    "    df['date'] = pd.to_datetime(df[['month','day','year']])\n",
    "    # dropping all number sets prior to 09-24-2018 due to new game format\n",
    "    df = df[(df['date'] > '2018-09-23')]\n",
    "    \n",
    "    # dropping columns not needed to generate numbers\n",
    "    lotto = df.drop([\"game\", \"month\", \"day\", \"year\", \"date\"], axis=1)\n",
    "    \n",
    "    first_column = lotto['N0'].tolist()\n",
    "    print('first column count is', len(first_column))\n",
    "\n",
    "    first_num = random.choice(first_column)\n",
    "    print('       ',first_num)\n",
    "    ################# Second number\n",
    "    second_column = lotto['N1'].tolist()\n",
    "    print('second column count is', len(second_column))\n",
    "\n",
    "    fixed_second = list(filter(lambda x: x != first_num, second_column))\n",
    "    print('fixed second column count is', len(fixed_second))\n",
    "\n",
    "    second_num = random.choice(fixed_second)\n",
    "    print('       ',second_num)\n",
    "    ################# Third number\n",
    "    third_column = lotto['N2'].tolist()\n",
    "    print('third column count is', len(third_column))\n",
    "\n",
    "    third = list(filter(lambda x: x != first_num, third_column))\n",
    "    fixed_third = list(filter(lambda x: x != second_num, third))\n",
    "    print('fixed third column count is', len(fixed_third))\n",
    "\n",
    "    third_num = random.choice(fixed_third)\n",
    "    print('       ',third_num)\n",
    "    ################# Fourth number\n",
    "    fourth_column = lotto['N3'].tolist()\n",
    "    print('fourth column count is', len(fourth_column))\n",
    "\n",
    "    four = list(filter(lambda x: x != first_num, fourth_column))\n",
    "    fourth = list(filter(lambda x: x != second_num, four))\n",
    "    fixed_fourth = list(filter(lambda x: x != third_num, fourth))\n",
    "    print('fixed fourth column count is', len(fixed_fourth))\n",
    "\n",
    "    fourth_num = random.choice(fixed_fourth)\n",
    "    print('       ',fourth_num)\n",
    "    ################# Fifth number\n",
    "    fifth_column = lotto['N4'].tolist()\n",
    "    print('fifth column count is', len(fifth_column))\n",
    "\n",
    "    five = list(filter(lambda x: x != first_num, fifth_column))\n",
    "    fives = list(filter(lambda x: x != second_num, five))\n",
    "    fifth = list(filter(lambda x: x != third_num, fives))\n",
    "    fixed_fifth = list(filter(lambda x: x != fourth_num, fifth))\n",
    "    print('fixed fitfth column count is', len(fixed_fifth))\n",
    "\n",
    "    fifth_num = random.choice(fixed_fifth)\n",
    "    print('       ',fifth_num)\n",
    "\n",
    "    print('')\n",
    "    print(first_num,'-', second_num,'-', third_num,'-', fourth_num,'-', fifth_num)\n",
    "    print('- - - - - - - - - - - - - - - - - - - - - - - - - - - - - - - - - - - - - - - - - - - ')\n",
    "    \n",
    "    "
   ]
  },
  {
   "cell_type": "code",
   "execution_count": 20,
   "metadata": {},
   "outputs": [
    {
     "name": "stdout",
     "output_type": "stream",
     "text": [
      "first column count is 733\n",
      "        16\n",
      "second column count is 733\n",
      "fixed second column count is 716\n",
      "        7\n",
      "third column count is 733\n",
      "fixed third column count is 693\n",
      "        2\n",
      "fourth column count is 733\n",
      "fixed fourth column count is 667\n",
      "        5\n",
      "fifth column count is 733\n",
      "fixed fitfth column count is 654\n",
      "        27\n",
      "\n",
      "16 - 7 - 2 - 5 - 27\n",
      "- - - - - - - - - - - - - - - - - - - - - - - - - - - - - - - - - - - - - - - - - - - \n",
      "first column count is 733\n",
      "        12\n",
      "second column count is 733\n",
      "fixed second column count is 718\n",
      "        20\n",
      "third column count is 733\n",
      "fixed third column count is 687\n",
      "        5\n",
      "fourth column count is 733\n",
      "fixed fourth column count is 665\n",
      "        10\n",
      "fifth column count is 733\n",
      "fixed fitfth column count is 661\n",
      "        35\n",
      "\n",
      "12 - 20 - 5 - 10 - 35\n",
      "- - - - - - - - - - - - - - - - - - - - - - - - - - - - - - - - - - - - - - - - - - - \n",
      "first column count is 733\n",
      "        14\n",
      "second column count is 733\n",
      "fixed second column count is 708\n",
      "        19\n",
      "third column count is 733\n",
      "fixed third column count is 690\n",
      "        30\n",
      "fourth column count is 733\n",
      "fixed fourth column count is 671\n",
      "        7\n",
      "fifth column count is 733\n",
      "fixed fitfth column count is 663\n",
      "        33\n",
      "\n",
      "14 - 19 - 30 - 7 - 33\n",
      "- - - - - - - - - - - - - - - - - - - - - - - - - - - - - - - - - - - - - - - - - - - \n",
      "first column count is 733\n",
      "        22\n",
      "second column count is 733\n",
      "fixed second column count is 716\n",
      "        19\n",
      "third column count is 733\n",
      "fixed third column count is 691\n",
      "        8\n",
      "fourth column count is 733\n",
      "fixed fourth column count is 670\n",
      "        24\n",
      "fifth column count is 733\n",
      "fixed fitfth column count is 639\n",
      "        20\n",
      "\n",
      "22 - 19 - 8 - 24 - 20\n",
      "- - - - - - - - - - - - - - - - - - - - - - - - - - - - - - - - - - - - - - - - - - - \n",
      "first column count is 733\n",
      "        32\n",
      "second column count is 733\n",
      "fixed second column count is 710\n",
      "        26\n",
      "third column count is 733\n",
      "fixed third column count is 685\n",
      "        12\n",
      "fourth column count is 733\n",
      "fixed fourth column count is 669\n",
      "        29\n",
      "fifth column count is 733\n",
      "fixed fitfth column count is 654\n",
      "        10\n",
      "\n",
      "32 - 26 - 12 - 29 - 10\n",
      "- - - - - - - - - - - - - - - - - - - - - - - - - - - - - - - - - - - - - - - - - - - \n"
     ]
    }
   ],
   "source": [
    "for _ in range(5):\n",
    "    cashfive_numbers()"
   ]
  },
  {
   "cell_type": "markdown",
   "metadata": {},
   "source": [
    "# Lotto Loop\n",
    "\n",
    "- A loop to see how many times it takes to select the winning numbers"
   ]
  },
  {
   "cell_type": "code",
   "execution_count": 5,
   "metadata": {
    "scrolled": true
   },
   "outputs": [
    {
     "data": {
      "text/html": [
       "<div>\n",
       "<style scoped>\n",
       "    .dataframe tbody tr th:only-of-type {\n",
       "        vertical-align: middle;\n",
       "    }\n",
       "\n",
       "    .dataframe tbody tr th {\n",
       "        vertical-align: top;\n",
       "    }\n",
       "\n",
       "    .dataframe thead th {\n",
       "        text-align: right;\n",
       "    }\n",
       "</style>\n",
       "<table border=\"1\" class=\"dataframe\">\n",
       "  <thead>\n",
       "    <tr style=\"text-align: right;\">\n",
       "      <th></th>\n",
       "      <th>N0</th>\n",
       "      <th>N1</th>\n",
       "      <th>N2</th>\n",
       "      <th>N3</th>\n",
       "      <th>N4</th>\n",
       "    </tr>\n",
       "  </thead>\n",
       "  <tbody>\n",
       "    <tr>\n",
       "      <th>6359</th>\n",
       "      <td>15</td>\n",
       "      <td>20</td>\n",
       "      <td>8</td>\n",
       "      <td>16</td>\n",
       "      <td>35</td>\n",
       "    </tr>\n",
       "    <tr>\n",
       "      <th>6360</th>\n",
       "      <td>27</td>\n",
       "      <td>11</td>\n",
       "      <td>24</td>\n",
       "      <td>5</td>\n",
       "      <td>6</td>\n",
       "    </tr>\n",
       "    <tr>\n",
       "      <th>6361</th>\n",
       "      <td>18</td>\n",
       "      <td>9</td>\n",
       "      <td>14</td>\n",
       "      <td>5</td>\n",
       "      <td>8</td>\n",
       "    </tr>\n",
       "    <tr>\n",
       "      <th>6362</th>\n",
       "      <td>29</td>\n",
       "      <td>9</td>\n",
       "      <td>22</td>\n",
       "      <td>23</td>\n",
       "      <td>15</td>\n",
       "    </tr>\n",
       "    <tr>\n",
       "      <th>6363</th>\n",
       "      <td>30</td>\n",
       "      <td>10</td>\n",
       "      <td>32</td>\n",
       "      <td>2</td>\n",
       "      <td>23</td>\n",
       "    </tr>\n",
       "    <tr>\n",
       "      <th>...</th>\n",
       "      <td>...</td>\n",
       "      <td>...</td>\n",
       "      <td>...</td>\n",
       "      <td>...</td>\n",
       "      <td>...</td>\n",
       "    </tr>\n",
       "    <tr>\n",
       "      <th>7059</th>\n",
       "      <td>8</td>\n",
       "      <td>3</td>\n",
       "      <td>31</td>\n",
       "      <td>5</td>\n",
       "      <td>6</td>\n",
       "    </tr>\n",
       "    <tr>\n",
       "      <th>7060</th>\n",
       "      <td>19</td>\n",
       "      <td>10</td>\n",
       "      <td>8</td>\n",
       "      <td>24</td>\n",
       "      <td>20</td>\n",
       "    </tr>\n",
       "    <tr>\n",
       "      <th>7061</th>\n",
       "      <td>23</td>\n",
       "      <td>22</td>\n",
       "      <td>35</td>\n",
       "      <td>9</td>\n",
       "      <td>28</td>\n",
       "    </tr>\n",
       "    <tr>\n",
       "      <th>7062</th>\n",
       "      <td>12</td>\n",
       "      <td>23</td>\n",
       "      <td>17</td>\n",
       "      <td>28</td>\n",
       "      <td>1</td>\n",
       "    </tr>\n",
       "    <tr>\n",
       "      <th>7063</th>\n",
       "      <td>26</td>\n",
       "      <td>8</td>\n",
       "      <td>35</td>\n",
       "      <td>17</td>\n",
       "      <td>16</td>\n",
       "    </tr>\n",
       "  </tbody>\n",
       "</table>\n",
       "<p>705 rows × 5 columns</p>\n",
       "</div>"
      ],
      "text/plain": [
       "      N0  N1  N2  N3  N4\n",
       "6359  15  20   8  16  35\n",
       "6360  27  11  24   5   6\n",
       "6361  18   9  14   5   8\n",
       "6362  29   9  22  23  15\n",
       "6363  30  10  32   2  23\n",
       "...   ..  ..  ..  ..  ..\n",
       "7059   8   3  31   5   6\n",
       "7060  19  10   8  24  20\n",
       "7061  23  22  35   9  28\n",
       "7062  12  23  17  28   1\n",
       "7063  26   8  35  17  16\n",
       "\n",
       "[705 rows x 5 columns]"
      ]
     },
     "execution_count": 5,
     "metadata": {},
     "output_type": "execute_result"
    }
   ],
   "source": [
    "lotto"
   ]
  },
  {
   "cell_type": "code",
   "execution_count": 6,
   "metadata": {},
   "outputs": [],
   "source": [
    "# Getting rid of the last line as those are the numbers we are trying to match\n",
    "lotto = lotto[:-1]"
   ]
  },
  {
   "cell_type": "code",
   "execution_count": 7,
   "metadata": {
    "scrolled": true
   },
   "outputs": [
    {
     "data": {
      "text/html": [
       "<div>\n",
       "<style scoped>\n",
       "    .dataframe tbody tr th:only-of-type {\n",
       "        vertical-align: middle;\n",
       "    }\n",
       "\n",
       "    .dataframe tbody tr th {\n",
       "        vertical-align: top;\n",
       "    }\n",
       "\n",
       "    .dataframe thead th {\n",
       "        text-align: right;\n",
       "    }\n",
       "</style>\n",
       "<table border=\"1\" class=\"dataframe\">\n",
       "  <thead>\n",
       "    <tr style=\"text-align: right;\">\n",
       "      <th></th>\n",
       "      <th>N0</th>\n",
       "      <th>N1</th>\n",
       "      <th>N2</th>\n",
       "      <th>N3</th>\n",
       "      <th>N4</th>\n",
       "    </tr>\n",
       "  </thead>\n",
       "  <tbody>\n",
       "    <tr>\n",
       "      <th>6359</th>\n",
       "      <td>15</td>\n",
       "      <td>20</td>\n",
       "      <td>8</td>\n",
       "      <td>16</td>\n",
       "      <td>35</td>\n",
       "    </tr>\n",
       "    <tr>\n",
       "      <th>6360</th>\n",
       "      <td>27</td>\n",
       "      <td>11</td>\n",
       "      <td>24</td>\n",
       "      <td>5</td>\n",
       "      <td>6</td>\n",
       "    </tr>\n",
       "    <tr>\n",
       "      <th>6361</th>\n",
       "      <td>18</td>\n",
       "      <td>9</td>\n",
       "      <td>14</td>\n",
       "      <td>5</td>\n",
       "      <td>8</td>\n",
       "    </tr>\n",
       "    <tr>\n",
       "      <th>6362</th>\n",
       "      <td>29</td>\n",
       "      <td>9</td>\n",
       "      <td>22</td>\n",
       "      <td>23</td>\n",
       "      <td>15</td>\n",
       "    </tr>\n",
       "    <tr>\n",
       "      <th>6363</th>\n",
       "      <td>30</td>\n",
       "      <td>10</td>\n",
       "      <td>32</td>\n",
       "      <td>2</td>\n",
       "      <td>23</td>\n",
       "    </tr>\n",
       "    <tr>\n",
       "      <th>...</th>\n",
       "      <td>...</td>\n",
       "      <td>...</td>\n",
       "      <td>...</td>\n",
       "      <td>...</td>\n",
       "      <td>...</td>\n",
       "    </tr>\n",
       "    <tr>\n",
       "      <th>7058</th>\n",
       "      <td>32</td>\n",
       "      <td>28</td>\n",
       "      <td>31</td>\n",
       "      <td>16</td>\n",
       "      <td>17</td>\n",
       "    </tr>\n",
       "    <tr>\n",
       "      <th>7059</th>\n",
       "      <td>8</td>\n",
       "      <td>3</td>\n",
       "      <td>31</td>\n",
       "      <td>5</td>\n",
       "      <td>6</td>\n",
       "    </tr>\n",
       "    <tr>\n",
       "      <th>7060</th>\n",
       "      <td>19</td>\n",
       "      <td>10</td>\n",
       "      <td>8</td>\n",
       "      <td>24</td>\n",
       "      <td>20</td>\n",
       "    </tr>\n",
       "    <tr>\n",
       "      <th>7061</th>\n",
       "      <td>23</td>\n",
       "      <td>22</td>\n",
       "      <td>35</td>\n",
       "      <td>9</td>\n",
       "      <td>28</td>\n",
       "    </tr>\n",
       "    <tr>\n",
       "      <th>7062</th>\n",
       "      <td>12</td>\n",
       "      <td>23</td>\n",
       "      <td>17</td>\n",
       "      <td>28</td>\n",
       "      <td>1</td>\n",
       "    </tr>\n",
       "  </tbody>\n",
       "</table>\n",
       "<p>704 rows × 5 columns</p>\n",
       "</div>"
      ],
      "text/plain": [
       "      N0  N1  N2  N3  N4\n",
       "6359  15  20   8  16  35\n",
       "6360  27  11  24   5   6\n",
       "6361  18   9  14   5   8\n",
       "6362  29   9  22  23  15\n",
       "6363  30  10  32   2  23\n",
       "...   ..  ..  ..  ..  ..\n",
       "7058  32  28  31  16  17\n",
       "7059   8   3  31   5   6\n",
       "7060  19  10   8  24  20\n",
       "7061  23  22  35   9  28\n",
       "7062  12  23  17  28   1\n",
       "\n",
       "[704 rows x 5 columns]"
      ]
     },
     "execution_count": 7,
     "metadata": {},
     "output_type": "execute_result"
    }
   ],
   "source": [
    "lotto"
   ]
  },
  {
   "cell_type": "code",
   "execution_count": 8,
   "metadata": {},
   "outputs": [],
   "source": [
    "def numbers():\n",
    "    \n",
    "    first_column = lotto['N0'].tolist()\n",
    "    #print('first column count is', len(first_column))\n",
    "\n",
    "    first_num = random.choice(first_column)\n",
    "    #print('       ',first_num)\n",
    "    ################# Second number\n",
    "    second_column = lotto['N1'].tolist()\n",
    "    #print('second column count is', len(second_column))\n",
    "\n",
    "    fixed_second = list(filter(lambda x: x != first_num, second_column))\n",
    "    #print('fixed second column count is', len(fixed_second))\n",
    "\n",
    "    second_num = random.choice(fixed_second)\n",
    "    #print('       ',second_num)\n",
    "    ################# Third number\n",
    "    third_column = lotto['N2'].tolist()\n",
    "    #print('third column count is', len(third_column))\n",
    "\n",
    "    third = list(filter(lambda x: x != first_num, third_column))\n",
    "    fixed_third = list(filter(lambda x: x != second_num, third))\n",
    "    #print('fixed third column count is', len(fixed_third))\n",
    "\n",
    "    third_num = random.choice(fixed_third)\n",
    "    #print('       ',third_num)\n",
    "    ################# Fourth number\n",
    "    fourth_column = lotto['N3'].tolist()\n",
    "    #print('fourth column count is', len(fourth_column))\n",
    "\n",
    "    four = list(filter(lambda x: x != first_num, fourth_column))\n",
    "    fourth = list(filter(lambda x: x != second_num, four))\n",
    "    fixed_fourth = list(filter(lambda x: x != third_num, fourth))\n",
    "    #print('fixed fourth column count is', len(fixed_fourth))\n",
    "\n",
    "    fourth_num = random.choice(fixed_fourth)\n",
    "    #print('       ',fourth_num)\n",
    "    ################# Fifth number\n",
    "    fifth_column = lotto['N4'].tolist()\n",
    "    #print('fifth column count is', len(fifth_column))\n",
    "\n",
    "    five = list(filter(lambda x: x != first_num, fifth_column))\n",
    "    fives = list(filter(lambda x: x != second_num, five))\n",
    "    fifth = list(filter(lambda x: x != third_num, fives))\n",
    "    fixed_fifth = list(filter(lambda x: x != fourth_num, fifth))\n",
    "    #print('fixed fitfth column count is', len(fixed_fifth))\n",
    "\n",
    "    fifth_num = random.choice(fixed_fifth)\n",
    "    #print('       ',fifth_num)\n",
    "\n",
    "    #print('')\n",
    "    #print(first_num,'-', second_num,'-', third_num,'-', fourth_num,'-', fifth_num)\n",
    "    return first_num, second_num, third_num, fourth_num, fifth_num"
   ]
  },
  {
   "cell_type": "code",
   "execution_count": 22,
   "metadata": {},
   "outputs": [
    {
     "data": {
      "text/plain": [
       "(17, 2, 10, 9, 5)"
      ]
     },
     "execution_count": 22,
     "metadata": {},
     "output_type": "execute_result"
    }
   ],
   "source": [
    "numbers()"
   ]
  },
  {
   "cell_type": "code",
   "execution_count": 27,
   "metadata": {},
   "outputs": [
    {
     "ename": "TypeError",
     "evalue": "unsupported operand type(s) for %: 'tuple' and 'int'",
     "output_type": "error",
     "traceback": [
      "\u001b[0;31m---------------------------------------------------------------------------\u001b[0m",
      "\u001b[0;31mTypeError\u001b[0m                                 Traceback (most recent call last)",
      "\u001b[0;32m<ipython-input-27-ef579def16eb>\u001b[0m in \u001b[0;36m<module>\u001b[0;34m\u001b[0m\n\u001b[1;32m      9\u001b[0m \u001b[0;32mwhile\u001b[0m \u001b[0mnumbers\u001b[0m \u001b[0;34m!=\u001b[0m \u001b[0mwinning_numbers\u001b[0m\u001b[0;34m:\u001b[0m\u001b[0;34m\u001b[0m\u001b[0;34m\u001b[0m\u001b[0m\n\u001b[1;32m     10\u001b[0m   \u001b[0mticket_count\u001b[0m \u001b[0;34m+=\u001b[0m \u001b[0;36m1\u001b[0m\u001b[0;34m\u001b[0m\u001b[0;34m\u001b[0m\u001b[0m\n\u001b[0;32m---> 11\u001b[0;31m   \u001b[0;32mif\u001b[0m \u001b[0mnumbers\u001b[0m\u001b[0;34m(\u001b[0m\u001b[0;34m)\u001b[0m \u001b[0;34m%\u001b[0m \u001b[0;36m100000\u001b[0m \u001b[0;34m==\u001b[0m \u001b[0;36m0\u001b[0m\u001b[0;34m:\u001b[0m\u001b[0;34m\u001b[0m\u001b[0;34m\u001b[0m\u001b[0m\n\u001b[0m\u001b[1;32m     12\u001b[0m     \u001b[0mprint\u001b[0m\u001b[0;34m(\u001b[0m\u001b[0mticket_count\u001b[0m\u001b[0;34m,\u001b[0m \u001b[0;34m' tickets bought and no dice...'\u001b[0m\u001b[0;34m)\u001b[0m\u001b[0;34m\u001b[0m\u001b[0;34m\u001b[0m\u001b[0m\n\u001b[1;32m     13\u001b[0m \u001b[0;32melse\u001b[0m\u001b[0;34m:\u001b[0m\u001b[0;34m\u001b[0m\u001b[0;34m\u001b[0m\u001b[0m\n",
      "\u001b[0;31mTypeError\u001b[0m: unsupported operand type(s) for %: 'tuple' and 'int'"
     ]
    }
   ],
   "source": [
    "# winning numbers\n",
    "winning_numbers = 26,8,35,17,16\n",
    "\n",
    "\n",
    "#first_ticket = numbers\n",
    "ticket_count = 1\n",
    "\n",
    "# Loop to keep searching for the winnings numbers from the number function\n",
    "while numbers != winning_numbers:\n",
    "  ticket_count += 1\n",
    "  if numbers() % 100000 == 0:\n",
    "    print(ticket_count, ' tickets bought and no dice...')\n",
    "else:\n",
    "  print('It Took', ticket_count, 'tickets to hit it big!')"
   ]
  },
  {
   "cell_type": "code",
   "execution_count": 9,
   "metadata": {},
   "outputs": [
    {
     "ename": "SyntaxError",
     "evalue": "can't assign to function call (<ipython-input-9-357ca09e0443>, line 1)",
     "output_type": "error",
     "traceback": [
      "\u001b[0;36m  File \u001b[0;32m\"<ipython-input-9-357ca09e0443>\"\u001b[0;36m, line \u001b[0;32m1\u001b[0m\n\u001b[0;31m    numbers() = int(numbers())\u001b[0m\n\u001b[0m                              ^\u001b[0m\n\u001b[0;31mSyntaxError\u001b[0m\u001b[0;31m:\u001b[0m can't assign to function call\n"
     ]
    }
   ],
   "source": [
    "numbers() = int(numbers())"
   ]
  },
  {
   "cell_type": "code",
   "execution_count": null,
   "metadata": {},
   "outputs": [],
   "source": []
  },
  {
   "cell_type": "code",
   "execution_count": 29,
   "metadata": {},
   "outputs": [
    {
     "data": {
      "text/plain": [
       "tuple"
      ]
     },
     "execution_count": 29,
     "metadata": {},
     "output_type": "execute_result"
    }
   ],
   "source": [
    "type(winning_numbers)"
   ]
  },
  {
   "cell_type": "code",
   "execution_count": null,
   "metadata": {},
   "outputs": [],
   "source": []
  },
  {
   "cell_type": "raw",
   "metadata": {},
   "source": [
    "def get_ticket():\n",
    "   #Creates a list made up of two elements: a set containing five random non-repeating integers between 1-70\n",
    "   #and a single integer between 1-25\n",
    "  ticket = []\n",
    "  ticket.append(set(random.sample(range(1, 71), k=5)))\n",
    "  ticket.append(random.randint(1, 25))\n",
    "  return ticket"
   ]
  },
  {
   "cell_type": "code",
   "execution_count": 9,
   "metadata": {},
   "outputs": [
    {
     "data": {
      "text/plain": [
       "[{1, 17, 40, 49, 63}, 6]"
      ]
     },
     "execution_count": 9,
     "metadata": {},
     "output_type": "execute_result"
    }
   ],
   "source": [
    "get_ticket()"
   ]
  },
  {
   "cell_type": "code",
   "execution_count": null,
   "metadata": {},
   "outputs": [],
   "source": []
  }
 ],
 "metadata": {
  "kernelspec": {
   "display_name": "Python 3",
   "language": "python",
   "name": "python3"
  },
  "language_info": {
   "codemirror_mode": {
    "name": "ipython",
    "version": 3
   },
   "file_extension": ".py",
   "mimetype": "text/x-python",
   "name": "python",
   "nbconvert_exporter": "python",
   "pygments_lexer": "ipython3",
   "version": "3.7.6"
  }
 },
 "nbformat": 4,
 "nbformat_minor": 4
}
