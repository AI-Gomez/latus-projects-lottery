{
 "cells": [
  {
   "cell_type": "markdown",
   "metadata": {
    "scrolled": true
   },
   "source": [
    "![](https://media.nbcdfw.com/2020/08/lotto-texas-logo.jpg?resize=850%2C478)"
   ]
  },
  {
   "cell_type": "code",
   "execution_count": 4,
   "metadata": {},
   "outputs": [
    {
     "data": {
      "text/html": [
       "<div>\n",
       "<style scoped>\n",
       "    .dataframe tbody tr th:only-of-type {\n",
       "        vertical-align: middle;\n",
       "    }\n",
       "\n",
       "    .dataframe tbody tr th {\n",
       "        vertical-align: top;\n",
       "    }\n",
       "\n",
       "    .dataframe thead th {\n",
       "        text-align: right;\n",
       "    }\n",
       "</style>\n",
       "<table border=\"1\" class=\"dataframe\">\n",
       "  <thead>\n",
       "    <tr style=\"text-align: right;\">\n",
       "      <th></th>\n",
       "      <th>Lotto Texas</th>\n",
       "      <th>11</th>\n",
       "      <th>14</th>\n",
       "      <th>1992</th>\n",
       "      <th>13</th>\n",
       "      <th>16</th>\n",
       "      <th>22</th>\n",
       "      <th>29</th>\n",
       "      <th>32</th>\n",
       "      <th>36</th>\n",
       "    </tr>\n",
       "  </thead>\n",
       "  <tbody>\n",
       "    <tr>\n",
       "      <th>0</th>\n",
       "      <td>Lotto Texas</td>\n",
       "      <td>11</td>\n",
       "      <td>18</td>\n",
       "      <td>1992</td>\n",
       "      <td>27</td>\n",
       "      <td>31</td>\n",
       "      <td>39</td>\n",
       "      <td>44</td>\n",
       "      <td>45</td>\n",
       "      <td>47</td>\n",
       "    </tr>\n",
       "    <tr>\n",
       "      <th>1</th>\n",
       "      <td>Lotto Texas</td>\n",
       "      <td>11</td>\n",
       "      <td>21</td>\n",
       "      <td>1992</td>\n",
       "      <td>11</td>\n",
       "      <td>21</td>\n",
       "      <td>24</td>\n",
       "      <td>28</td>\n",
       "      <td>31</td>\n",
       "      <td>46</td>\n",
       "    </tr>\n",
       "    <tr>\n",
       "      <th>2</th>\n",
       "      <td>Lotto Texas</td>\n",
       "      <td>11</td>\n",
       "      <td>25</td>\n",
       "      <td>1992</td>\n",
       "      <td>14</td>\n",
       "      <td>21</td>\n",
       "      <td>36</td>\n",
       "      <td>39</td>\n",
       "      <td>40</td>\n",
       "      <td>42</td>\n",
       "    </tr>\n",
       "    <tr>\n",
       "      <th>3</th>\n",
       "      <td>Lotto Texas</td>\n",
       "      <td>11</td>\n",
       "      <td>28</td>\n",
       "      <td>1992</td>\n",
       "      <td>9</td>\n",
       "      <td>17</td>\n",
       "      <td>21</td>\n",
       "      <td>24</td>\n",
       "      <td>28</td>\n",
       "      <td>50</td>\n",
       "    </tr>\n",
       "    <tr>\n",
       "      <th>4</th>\n",
       "      <td>Lotto Texas</td>\n",
       "      <td>12</td>\n",
       "      <td>2</td>\n",
       "      <td>1992</td>\n",
       "      <td>5</td>\n",
       "      <td>17</td>\n",
       "      <td>19</td>\n",
       "      <td>25</td>\n",
       "      <td>26</td>\n",
       "      <td>38</td>\n",
       "    </tr>\n",
       "  </tbody>\n",
       "</table>\n",
       "</div>"
      ],
      "text/plain": [
       "   Lotto Texas  11  14  1992  13  16  22  29  32  36\n",
       "0  Lotto Texas  11  18  1992  27  31  39  44  45  47\n",
       "1  Lotto Texas  11  21  1992  11  21  24  28  31  46\n",
       "2  Lotto Texas  11  25  1992  14  21  36  39  40  42\n",
       "3  Lotto Texas  11  28  1992   9  17  21  24  28  50\n",
       "4  Lotto Texas  12   2  1992   5  17  19  25  26  38"
      ]
     },
     "execution_count": 4,
     "metadata": {},
     "output_type": "execute_result"
    }
   ],
   "source": [
    "import numpy as np\n",
    "import pandas as pd\n",
    "import matplotlib.pyplot as plt\n",
    "from scipy import stats\n",
    "from math import sqrt\n",
    "import seaborn as sns\n",
    "from pydataset import data\n",
    "import random\n",
    "from collections import Counter\n",
    "\n",
    "csv_url = 'https://txlottery.org/export/sites/lottery/Games/Lotto_Texas/Winning_Numbers/lottotexas.csv'\n",
    "df = pd.read_csv(csv_url)\n",
    "\n",
    "df.head()"
   ]
  },
  {
   "cell_type": "markdown",
   "metadata": {},
   "source": [
    "# Cleaning the DataFrame"
   ]
  },
  {
   "cell_type": "code",
   "execution_count": 2,
   "metadata": {
    "scrolled": true
   },
   "outputs": [
    {
     "data": {
      "text/html": [
       "<div>\n",
       "<style scoped>\n",
       "    .dataframe tbody tr th:only-of-type {\n",
       "        vertical-align: middle;\n",
       "    }\n",
       "\n",
       "    .dataframe tbody tr th {\n",
       "        vertical-align: top;\n",
       "    }\n",
       "\n",
       "    .dataframe thead th {\n",
       "        text-align: right;\n",
       "    }\n",
       "</style>\n",
       "<table border=\"1\" class=\"dataframe\">\n",
       "  <thead>\n",
       "    <tr style=\"text-align: right;\">\n",
       "      <th></th>\n",
       "      <th>N0</th>\n",
       "      <th>N1</th>\n",
       "      <th>N2</th>\n",
       "      <th>N3</th>\n",
       "      <th>N4</th>\n",
       "      <th>N5</th>\n",
       "    </tr>\n",
       "  </thead>\n",
       "  <tbody>\n",
       "    <tr>\n",
       "      <th>0</th>\n",
       "      <td>13</td>\n",
       "      <td>16</td>\n",
       "      <td>22</td>\n",
       "      <td>29</td>\n",
       "      <td>32</td>\n",
       "      <td>36</td>\n",
       "    </tr>\n",
       "    <tr>\n",
       "      <th>1</th>\n",
       "      <td>27</td>\n",
       "      <td>31</td>\n",
       "      <td>39</td>\n",
       "      <td>44</td>\n",
       "      <td>45</td>\n",
       "      <td>47</td>\n",
       "    </tr>\n",
       "    <tr>\n",
       "      <th>2</th>\n",
       "      <td>11</td>\n",
       "      <td>21</td>\n",
       "      <td>24</td>\n",
       "      <td>28</td>\n",
       "      <td>31</td>\n",
       "      <td>46</td>\n",
       "    </tr>\n",
       "    <tr>\n",
       "      <th>3</th>\n",
       "      <td>14</td>\n",
       "      <td>21</td>\n",
       "      <td>36</td>\n",
       "      <td>39</td>\n",
       "      <td>40</td>\n",
       "      <td>42</td>\n",
       "    </tr>\n",
       "    <tr>\n",
       "      <th>4</th>\n",
       "      <td>9</td>\n",
       "      <td>17</td>\n",
       "      <td>21</td>\n",
       "      <td>24</td>\n",
       "      <td>28</td>\n",
       "      <td>50</td>\n",
       "    </tr>\n",
       "  </tbody>\n",
       "</table>\n",
       "</div>"
      ],
      "text/plain": [
       "   N0  N1  N2  N3  N4  N5\n",
       "0  13  16  22  29  32  36\n",
       "1  27  31  39  44  45  47\n",
       "2  11  21  24  28  31  46\n",
       "3  14  21  36  39  40  42\n",
       "4   9  17  21  24  28  50"
      ]
     },
     "execution_count": 2,
     "metadata": {},
     "output_type": "execute_result"
    }
   ],
   "source": [
    "data=[]\n",
    "data.insert(0,{'Lotto Texas':'Lotto Texas','11':'11','14':'14','1992':'1992','13':'13','16':'16','22':'22','29':'29','32':'32','36':'36'})\n",
    "df = pd.concat([pd.DataFrame(data),df],ignore_index=True)\n",
    "df.columns = ['game','M','D','Y','N0','N1','N2','N3','N4','N5']\n",
    "lotto = df.drop([\"game\", \"M\", \"D\", \"Y\"], axis=1)\n",
    "lotto.head()"
   ]
  },
  {
   "cell_type": "markdown",
   "metadata": {},
   "source": [
    "# Texas Lotto Number Generator"
   ]
  },
  {
   "cell_type": "code",
   "execution_count": 3,
   "metadata": {
    "scrolled": true
   },
   "outputs": [
    {
     "name": "stdout",
     "output_type": "stream",
     "text": [
      "first column count is 2923\n",
      "        5\n",
      "second column count is 2923\n",
      "fixed second column count is 2857\n",
      "        19\n",
      "third column count is 2923\n",
      "fixed third column count is 2809\n",
      "        38\n",
      "fourth column count is 2923\n",
      "fixed fourth column count is 2748\n",
      "        21\n",
      "fifth column count is 2923\n",
      "fixed fitfth column count is 2669\n",
      "        46\n",
      "sixth column count is 2923\n",
      "fixed sixth column count is 2620\n",
      "        4\n",
      "\n",
      "5 - 19 - 38 - 21 - 46 - 4\n"
     ]
    }
   ],
   "source": [
    "######################################################################\n",
    "######################################################################\n",
    "# LAMBDA FUNCTION\n",
    "# First number\n",
    "first_column = lotto['N0'].tolist()\n",
    "print('first column count is', len(first_column))\n",
    "\n",
    "first_num = random.choice(first_column)\n",
    "print('       ',first_num)\n",
    "################# Second number\n",
    "second_column = lotto['N1'].tolist()\n",
    "print('second column count is', len(second_column))\n",
    "\n",
    "fixed_second = list(filter(lambda x: x != first_num, second_column))\n",
    "print('fixed second column count is', len(fixed_second))\n",
    "\n",
    "second_num = random.choice(fixed_second)\n",
    "print('       ',second_num)\n",
    "################# Third number\n",
    "third_column = lotto['N2'].tolist()\n",
    "print('third column count is', len(third_column))\n",
    "\n",
    "third = list(filter(lambda x: x != first_num, third_column))\n",
    "fixed_third = list(filter(lambda x: x != second_num, third))\n",
    "print('fixed third column count is', len(fixed_third))\n",
    "\n",
    "third_num = random.choice(fixed_third)\n",
    "print('       ',third_num)\n",
    "################# Fourth number\n",
    "fourth_column = lotto['N3'].tolist()\n",
    "print('fourth column count is', len(fourth_column))\n",
    "\n",
    "four = list(filter(lambda x: x != first_num, fourth_column))\n",
    "fourth = list(filter(lambda x: x != second_num, four))\n",
    "fixed_fourth = list(filter(lambda x: x != third_num, fourth))\n",
    "print('fixed fourth column count is', len(fixed_fourth))\n",
    "\n",
    "fourth_num = random.choice(fixed_fourth)\n",
    "print('       ',fourth_num)\n",
    "################# Fifth number\n",
    "fifth_column = lotto['N4'].tolist()\n",
    "print('fifth column count is', len(fifth_column))\n",
    "\n",
    "five = list(filter(lambda x: x != first_num, fifth_column))\n",
    "fives = list(filter(lambda x: x != second_num, five))\n",
    "fifth = list(filter(lambda x: x != third_num, fives))\n",
    "fixed_fifth = list(filter(lambda x: x != fourth_num, fifth))\n",
    "print('fixed fitfth column count is', len(fixed_fifth))\n",
    "\n",
    "fifth_num = random.choice(fixed_fifth)\n",
    "print('       ',fifth_num)\n",
    "################ 6th number\n",
    "sixth_column = lotto['N5'].tolist()\n",
    "print('sixth column count is', len(sixth_column))\n",
    "\n",
    "six = list(filter(lambda x: x != first_num, sixth_column))\n",
    "sixes = list(filter(lambda x: x != second_num, six))\n",
    "sixer = list(filter(lambda x: x != third_num, sixes))\n",
    "sixth = list(filter(lambda x: x != fourth_num, sixer))\n",
    "fixed_sixth = list(filter(lambda x: x != fifth_num, sixth))\n",
    "print('fixed sixth column count is', len(fixed_sixth))\n",
    "\n",
    "sixth_num = random.choice(fixed_sixth)\n",
    "print('       ',sixth_num)\n",
    "print('')\n",
    "print(first_num,'-', second_num,'-', third_num,'-', fourth_num,'-', fifth_num,'-', sixth_num)"
   ]
  },
  {
   "cell_type": "markdown",
   "metadata": {},
   "source": [
    "------------"
   ]
  },
  {
   "cell_type": "markdown",
   "metadata": {},
   "source": [
    "# All-in-one Generator Function"
   ]
  },
  {
   "cell_type": "code",
   "execution_count": 5,
   "metadata": {},
   "outputs": [],
   "source": [
    "import numpy as np\n",
    "import pandas as pd\n",
    "\n",
    "\n",
    "\n",
    "\n",
    "def texaslotto_numbers():\n",
    "    \n",
    "    '''\n",
    "    This function brings in a fresh csv to be cleaned and prepped for\n",
    "    the number generator. The number generator selects numbers based on columns\n",
    "    and columns are based on draw order. The frequency of numbers drawn is included\n",
    "    in the number generator which is what gives this algorithm an advantage over\n",
    "    traditional quick picks.\n",
    "    ''' \n",
    "    \n",
    "    # brings in a fresh csv\n",
    "    csv_url = 'https://txlottery.org/export/sites/lottery/Games/Lotto_Texas/Winning_Numbers/lottotexas.csv'\n",
    "    df = pd.read_csv(csv_url)\n",
    "    \n",
    "    # cleans and preps the dataframe\n",
    "    data=[]\n",
    "    data.insert(0,{'Lotto Texas':'Lotto Texas','11':'11','14':'14','1992':'1992','13':'13','16':'16','22':'22','29':'29','32':'32','36':'36'})\n",
    "    df = pd.concat([pd.DataFrame(data),df],ignore_index=True)\n",
    "    df.columns = ['game','M','D','Y','N0','N1','N2','N3','N4','N5']\n",
    "    lotto = df.drop([\"game\", \"M\", \"D\", \"Y\"], axis=1)\n",
    "    \n",
    "    first_column = lotto['N0'].tolist()\n",
    "    print('first column count is', len(first_column))\n",
    "\n",
    "    first_num = random.choice(first_column)\n",
    "    print('       ',first_num)\n",
    "    ################# Second number\n",
    "    second_column = lotto['N1'].tolist()\n",
    "    print('second column count is', len(second_column))\n",
    "\n",
    "    fixed_second = list(filter(lambda x: x != first_num, second_column))\n",
    "    print('fixed second column count is', len(fixed_second))\n",
    "\n",
    "    second_num = random.choice(fixed_second)\n",
    "    print('       ',second_num)\n",
    "    ################# Third number\n",
    "    third_column = lotto['N2'].tolist()\n",
    "    print('third column count is', len(third_column))\n",
    "\n",
    "    third = list(filter(lambda x: x != first_num, third_column))\n",
    "    fixed_third = list(filter(lambda x: x != second_num, third))\n",
    "    print('fixed third column count is', len(fixed_third))\n",
    "\n",
    "    third_num = random.choice(fixed_third)\n",
    "    print('       ',third_num)\n",
    "    ################# Fourth number\n",
    "    fourth_column = lotto['N3'].tolist()\n",
    "    print('fourth column count is', len(fourth_column))\n",
    "\n",
    "    four = list(filter(lambda x: x != first_num, fourth_column))\n",
    "    fourth = list(filter(lambda x: x != second_num, four))\n",
    "    fixed_fourth = list(filter(lambda x: x != third_num, fourth))\n",
    "    print('fixed fourth column count is', len(fixed_fourth))\n",
    "\n",
    "    fourth_num = random.choice(fixed_fourth)\n",
    "    print('       ',fourth_num)\n",
    "    ################# Fifth number\n",
    "    fifth_column = lotto['N4'].tolist()\n",
    "    print('fifth column count is', len(fifth_column))\n",
    "\n",
    "    five = list(filter(lambda x: x != first_num, fifth_column))\n",
    "    fives = list(filter(lambda x: x != second_num, five))\n",
    "    fifth = list(filter(lambda x: x != third_num, fives))\n",
    "    fixed_fifth = list(filter(lambda x: x != fourth_num, fifth))\n",
    "    print('fixed fitfth column count is', len(fixed_fifth))\n",
    "\n",
    "    fifth_num = random.choice(fixed_fifth)\n",
    "    print('       ',fifth_num)\n",
    "    ################ 6th number\n",
    "    sixth_column = lotto['N5'].tolist()\n",
    "    print('sixth column count is', len(sixth_column))\n",
    "\n",
    "    six = list(filter(lambda x: x != first_num, sixth_column))\n",
    "    sixes = list(filter(lambda x: x != second_num, six))\n",
    "    sixer = list(filter(lambda x: x != third_num, sixes))\n",
    "    sixth = list(filter(lambda x: x != fourth_num, sixer))\n",
    "    fixed_sixth = list(filter(lambda x: x != fifth_num, sixth))\n",
    "    print('fixed sixth column count is', len(fixed_sixth))\n",
    "\n",
    "    sixth_num = random.choice(fixed_sixth)\n",
    "    print('       ',sixth_num)\n",
    "    print('')\n",
    "    print(first_num,'-', second_num,'-', third_num,'-', fourth_num,'-', fifth_num,'-', sixth_num)\n",
    "    \n",
    "    "
   ]
  },
  {
   "cell_type": "code",
   "execution_count": 6,
   "metadata": {
    "scrolled": true
   },
   "outputs": [
    {
     "name": "stdout",
     "output_type": "stream",
     "text": [
      "first column count is 2925\n",
      "        38\n",
      "second column count is 2925\n",
      "fixed second column count is 2873\n",
      "        52\n",
      "third column count is 2925\n",
      "fixed third column count is 2838\n",
      "        7\n",
      "fourth column count is 2925\n",
      "fixed fourth column count is 2786\n",
      "        35\n",
      "fifth column count is 2925\n",
      "fixed fitfth column count is 2695\n",
      "        42\n",
      "sixth column count is 2925\n",
      "fixed sixth column count is 2686\n",
      "        32\n",
      "\n",
      "38 - 52 - 7 - 35 - 42 - 32\n"
     ]
    }
   ],
   "source": [
    "texaslotto_numbers()"
   ]
  },
  {
   "cell_type": "markdown",
   "metadata": {},
   "source": [
    "------------"
   ]
  },
  {
   "cell_type": "markdown",
   "metadata": {},
   "source": [
    "# Kmeans Clustering"
   ]
  },
  {
   "cell_type": "code",
   "execution_count": 4,
   "metadata": {},
   "outputs": [],
   "source": [
    "from sklearn.cluster import KMeans"
   ]
  },
  {
   "cell_type": "code",
   "execution_count": 5,
   "metadata": {},
   "outputs": [
    {
     "data": {
      "text/plain": [
       "array([1, 3, 1, ..., 3, 4, 2], dtype=int32)"
      ]
     },
     "execution_count": 5,
     "metadata": {},
     "output_type": "execute_result"
    }
   ],
   "source": [
    "x = lotto[['N0']]\n",
    "kmeans = KMeans(n_clusters=6)\n",
    "kmeans.fit(x)\n",
    "\n",
    "kmeans.predict(x)"
   ]
  },
  {
   "cell_type": "code",
   "execution_count": 8,
   "metadata": {},
   "outputs": [
    {
     "data": {
      "text/plain": [
       "array([[32.],\n",
       "       [13.],\n",
       "       [50.],\n",
       "       [22.],\n",
       "       [ 4.],\n",
       "       [41.]])"
      ]
     },
     "execution_count": 8,
     "metadata": {},
     "output_type": "execute_result"
    }
   ],
   "source": [
    "kmeans.cluster_centers_.round(0)"
   ]
  },
  {
   "cell_type": "code",
   "execution_count": 10,
   "metadata": {},
   "outputs": [
    {
     "data": {
      "text/html": [
       "<div>\n",
       "<style scoped>\n",
       "    .dataframe tbody tr th:only-of-type {\n",
       "        vertical-align: middle;\n",
       "    }\n",
       "\n",
       "    .dataframe tbody tr th {\n",
       "        vertical-align: top;\n",
       "    }\n",
       "\n",
       "    .dataframe thead th {\n",
       "        text-align: right;\n",
       "    }\n",
       "</style>\n",
       "<table border=\"1\" class=\"dataframe\">\n",
       "  <thead>\n",
       "    <tr style=\"text-align: right;\">\n",
       "      <th></th>\n",
       "      <th>N0</th>\n",
       "    </tr>\n",
       "  </thead>\n",
       "  <tbody>\n",
       "    <tr>\n",
       "      <th>0</th>\n",
       "      <td>32.086694</td>\n",
       "    </tr>\n",
       "    <tr>\n",
       "      <th>1</th>\n",
       "      <td>12.990421</td>\n",
       "    </tr>\n",
       "    <tr>\n",
       "      <th>2</th>\n",
       "      <td>49.657682</td>\n",
       "    </tr>\n",
       "    <tr>\n",
       "      <th>3</th>\n",
       "      <td>22.444037</td>\n",
       "    </tr>\n",
       "    <tr>\n",
       "      <th>4</th>\n",
       "      <td>4.399602</td>\n",
       "    </tr>\n",
       "    <tr>\n",
       "      <th>5</th>\n",
       "      <td>40.917695</td>\n",
       "    </tr>\n",
       "  </tbody>\n",
       "</table>\n",
       "</div>"
      ],
      "text/plain": [
       "          N0\n",
       "0  32.086694\n",
       "1  12.990421\n",
       "2  49.657682\n",
       "3  22.444037\n",
       "4   4.399602\n",
       "5  40.917695"
      ]
     },
     "execution_count": 10,
     "metadata": {},
     "output_type": "execute_result"
    }
   ],
   "source": [
    "centroids = pd.DataFrame(kmeans.cluster_centers_, columns=x.columns)\n",
    "centroids"
   ]
  },
  {
   "cell_type": "code",
   "execution_count": 11,
   "metadata": {},
   "outputs": [],
   "source": [
    "lotto['cluster'] = kmeans.predict(x)"
   ]
  },
  {
   "cell_type": "code",
   "execution_count": 13,
   "metadata": {},
   "outputs": [
    {
     "data": {
      "text/plain": [
       "<matplotlib.axes._subplots.AxesSubplot at 0x7fb37790f750>"
      ]
     },
     "execution_count": 13,
     "metadata": {},
     "output_type": "execute_result"
    },
    {
     "data": {
      "image/png": "[encoded data removed]",
      "text/plain": [
       "<Figure size 432x288 with 1 Axes>"
      ]
     },
     "metadata": {
      "needs_background": "light"
     },
     "output_type": "display_data"
    }
   ],
   "source": [
    "centroids.plot()"
   ]
  },
  {
   "cell_type": "code",
   "execution_count": null,
   "metadata": {},
   "outputs": [],
   "source": [
    "# def no pattern"
   ]
  }
 ],
 "metadata": {
  "kernelspec": {
   "display_name": "Python 3",
   "language": "python",
   "name": "python3"
  },
  "language_info": {
   "codemirror_mode": {
    "name": "ipython",
    "version": 3
   },
   "file_extension": ".py",
   "mimetype": "text/x-python",
   "name": "python",
   "nbconvert_exporter": "python",
   "pygments_lexer": "ipython3",
   "version": "3.7.6"
  }
 },
 "nbformat": 4,
 "nbformat_minor": 4
}
